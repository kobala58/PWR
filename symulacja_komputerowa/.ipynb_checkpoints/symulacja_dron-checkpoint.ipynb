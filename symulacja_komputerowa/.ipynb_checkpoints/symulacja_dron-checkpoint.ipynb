{
 "cells": [
  {
   "cell_type": "code",
   "execution_count": 1,
   "metadata": {},
   "outputs": [],
   "source": [
    "import random\n",
    "import numpy as np\n",
    "import matplotlib.pyplot as plt\n",
    "from matplotlib.pyplot import figure"
   ]
  },
  {
   "cell_type": "code",
   "execution_count": 2,
   "metadata": {},
   "outputs": [],
   "source": [
    "# CONSTANS\n",
    "SIZE = 50\n",
    "WINDSIZE = int(0.2 * SIZE)\n",
    "PHOTORADIUS = 3\n",
    "OVERLAP = 0.5"
   ]
  },
  {
   "cell_type": "code",
   "execution_count": 3,
   "metadata": {},
   "outputs": [],
   "source": [
    "beg = random.randint(0, SIZE-WINDSIZE)\n",
    "direction = random.choice([\"<\", \">\"])\n",
    "windy_cords = []\n",
    "def wind_vals_gen(x,y):\n",
    "    if beg<=y<=(beg+WINDSIZE):\n",
    "        windy_cords.append([x,y])\n",
    "        return 1\n",
    "    else:\n",
    "        return 0"
   ]
  },
  {
   "cell_type": "code",
   "execution_count": 4,
   "metadata": {},
   "outputs": [],
   "source": [
    "points = []\n",
    "for x in range(SIZE):\n",
    "    x_tmp = []\n",
    "    for y in range(SIZE):\n",
    "        x_tmp.append([x,y, wind_vals_gen(x,y)])\n",
    "    points.append(x_tmp)"
   ]
  },
  {
   "cell_type": "code",
   "execution_count": 24,
   "metadata": {},
   "outputs": [
    {
     "data": {
      "text/plain": [
       "<Figure size 1200x1200 with 0 Axes>"
      ]
     },
     "metadata": {},
     "output_type": "display_data"
    },
    {
     "data": {
      "image/png": "[encoded data removed]",
      "text/plain": [
       "<Figure size 640x480 with 1 Axes>"
      ]
     },
     "metadata": {},
     "output_type": "display_data"
    }
   ],
   "source": [
    "figure(figsize=(12, 12), dpi=100)\n",
    "fig = plt.figure()\n",
    "ax1 = fig.add_subplot(111)\n",
    "for x in points:\n",
    "    for y in x:\n",
    "        if y[-1] != 0:\n",
    "            ax1.plot(y[0],y[1], color=\"green\", marker=direction)\n",
    "        else:\n",
    "            ax1.plot(y[0], y[1], marker=\"o\", color=\"gray\")\n",
    "\n",
    "from drone import Drone\n",
    "from prep_routes import Horizontal\n",
    "\n",
    "dron = Drone(\n",
    "    battery=200,\n",
    "    battery_usage = 0.1,\n",
    "    photo_radius= 3,\n",
    "    overlap= 0.5,\n",
    "    move_method= \"h\",\n",
    "    wind_direction= \"l\",\n",
    "    map_size= 50,\n",
    "    wind_start= 30,\n",
    "    wind_stop= 40\n",
    ")\n",
    "dron.move(\"u\")\n",
    "dron.move(\"u\")\n",
    "dron.move(\"u\")\n",
    "dron.move(\"u\")\n",
    "dron.move(\"u\")\n",
    "dron.move(\"u\")\n",
    "\n",
    "for x in range(40):\n",
    "    dirs = [\"u\", \"r\"]\n",
    "    dron.move(random.choice(dirs))\n",
    "    ax1.plot(dron.x, dron.y, marker=\"o\", color=\"red\")\n",
    "    #print(dron)\n",
    "plt.show()"
   ]
  },
  {
   "cell_type": "code",
   "execution_count": 6,
   "metadata": {
    "scrolled": false
   },
   "outputs": [
    {
     "name": "stdout",
     "output_type": "stream",
     "text": [
      "{'staus': 'none'}\n",
      "Position (6,4)\n",
      " Battery: (199.40000000000003)\n"
     ]
    }
   ],
   "source": [
    "from drone import Drone\n",
    "from prep_routes import Horizontal\n",
    "\n",
    "dron = Drone(\n",
    "    battery=200,\n",
    "    battery_usage = 0.1,\n",
    "    photo_radius= 3,\n",
    "    overlap= 0.5,\n",
    "    move_method= \"h\",\n",
    "    wind_direction= \"l\",\n",
    "    map_size= 50,\n",
    "    wind_start= 30,\n",
    "    wind_stop= 40\n",
    ")\n",
    "dron.move(\"u\")\n",
    "dron.move(\"u\")\n",
    "dron.move(\"u\")\n",
    "dron.move(\"u\")\n",
    "dron.move(\"u\")\n",
    "dron.move(\"u\")\n",
    "\n",
    "for x in range(10):\n",
    "    dirs = [\"u\", \"r\"]\n",
    "    dron.move(random.choice(dirs))\n",
    "    ax1.plot(dron.x, dron.y, marker=\"o\", color=\"red\")\n",
    "    #print(dron)\n",
    "plt.show()"
   ]
  },
  {
   "cell_type": "code",
   "execution_count": 22,
   "metadata": {},
   "outputs": [],
   "source": []
  },
  {
   "cell_type": "code",
   "execution_count": null,
   "metadata": {},
   "outputs": [],
   "source": []
  }
 ],
 "metadata": {
  "kernelspec": {
   "display_name": "Python 3 (ipykernel)",
   "language": "python",
   "name": "python3"
  },
  "language_info": {
   "codemirror_mode": {
    "name": "ipython",
    "version": 3
   },
   "file_extension": ".py",
   "mimetype": "text/x-python",
   "name": "python",
   "nbconvert_exporter": "python",
   "pygments_lexer": "ipython3",
   "version": "3.10.8"
  }
 },
 "nbformat": 4,
 "nbformat_minor": 1
}
