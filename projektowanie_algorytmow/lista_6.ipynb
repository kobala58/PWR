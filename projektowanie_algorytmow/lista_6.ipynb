{
 "cells": [
  {
   "cell_type": "markdown",
   "metadata": {},
   "source": [
    "# Algorytmy teorioliczbowe i RSA"
   ]
  },
  {
   "cell_type": "markdown",
   "metadata": {},
   "source": [
    "### Zadanie nr 1\n",
    "\n",
    "Zaimplementuj funkcję, która zwróci listę czynników pierwszych zadanej liczby naturalnej n. Zrób to reku\u0002rencyjnie, sprawdzając podzielność liczby przez kolejne liczby naturalne (aż do ⌊\n",
    "√n⌋) – rekurencja pojawia się, gdy liczba jest podzielna – wtedy uruchamiamy algorytm na jej dzielnikach.\n"
   ]
  },
  {
   "cell_type": "code",
   "execution_count": 1,
   "metadata": {},
   "outputs": [],
   "source": [
    "import random\n",
    "import timeit\n",
    "import matplotlib.pyplot as plt"
   ]
  },
  {
   "cell_type": "code",
   "execution_count": 2,
   "metadata": {},
   "outputs": [],
   "source": [
    "def czynniki_pierwsze(n_i):\n",
    "\n",
    "    czynniki_l = [] # Lista czynników\n",
    "    i = 2 # Sprawdzanie zaczynamy od dwójki, jest to najmniejszy czynnik pierwszy\n",
    "\n",
    "    while i**2 <= n_i: # i**2 <= n jest równoznaczne z i <= sqrt(n)\n",
    "        if n_i % i != 0: # jeśli n nie jest podzielne przez czynnik, szukamy dalej\n",
    "            i += 1\n",
    "        else:\n",
    "            czynniki_l.append(i)\n",
    "            czynniki_l.extend(czynniki_pierwsze(n_i//i)) # Wywołujemy funkcję z n podzielonym przez znaleziony czynnik\n",
    "            return czynniki_l\n",
    "\n",
    "    # Poniższy kod wykona się jeśli n jest równe 1, 2 bądź 3\n",
    "\n",
    "    if n_i != 1:\n",
    "        czynniki_l.append(n_i)\n",
    "    return czynniki_l"
   ]
  },
  {
   "cell_type": "code",
   "execution_count": 3,
   "metadata": {},
   "outputs": [
    {
     "name": "stdout",
     "output_type": "stream",
     "text": [
      "Podaj liczbę naturalną, której chcesz otrzymać czynniki pierwsze: 12\n",
      "[2, 2, 3]\n"
     ]
    }
   ],
   "source": [
    "n = int(input(f\"Podaj liczbę naturalną, której chcesz otrzymać czynniki pierwsze: \"))\n",
    "\n",
    "print(czynniki_pierwsze(n))"
   ]
  },
  {
   "cell_type": "markdown",
   "metadata": {},
   "source": [
    "### Zadanie nr 2\n",
    "Zaimplementuj sito Eratostenesa, aby wyznaczyć zbiór liczb pierwszych nie większych od zadanego p."
   ]
  },
  {
   "cell_type": "code",
   "execution_count": 4,
   "metadata": {},
   "outputs": [],
   "source": [
    "def sito_eratostenesa(p):\n",
    "    czyjest = [1 for _ in range(2, p + 1)]\n",
    "    odpowiednik = [i for i in range(2, p+1)]\n",
    "\n",
    "    i=0\n",
    "    while odpowiednik[i]**2 <= p: #dla n := 2 do ⌊sqrt(p)⌋\n",
    "        if czyjest[i] == 1: # jeśli xn = 1, to\n",
    "            l=0\n",
    "            while l <= p//odpowiednik[i]: # dla j := 2 do ⌊p/n⌋\n",
    "                for j in range(i+1, p-1):\n",
    "                    if odpowiednik[j] % odpowiednik[i] == 0:\n",
    "                        czyjest[j] = 0 # xn·j := 0\n",
    "                l += 1\n",
    "        i += 1\n",
    "\n",
    "    # tworzymy listę wyjściową\n",
    "\n",
    "    wynik = []\n",
    "    for i in range(len(czyjest)-1):\n",
    "        if czyjest[i] == 1:\n",
    "            wynik.append(odpowiednik[i])\n",
    "\n",
    "    return wynik"
   ]
  },
  {
   "cell_type": "code",
   "execution_count": 5,
   "metadata": {},
   "outputs": [
    {
     "name": "stdout",
     "output_type": "stream",
     "text": [
      "Podaj liczbę naturalną, aby wyznaczyć zbiór liczb pierwszych nie większych od niej: 12\n",
      "[2, 3, 5, 7, 11]\n"
     ]
    }
   ],
   "source": [
    "p = int(input(f\"Podaj liczbę naturalną, aby wyznaczyć zbiór liczb pierwszych nie większych od niej: \"))\n",
    "\n",
    "print(sito_eratostenesa(p))"
   ]
  },
  {
   "cell_type": "markdown",
   "metadata": {},
   "source": [
    "### Zadanie nr 3\n",
    "\n",
    "##### 3.1 Wyszukiwanie\n",
    "Zaimplementuj funkcję szukającą największego wspólnego dzielnika dwóch liczb. Zrób to na dwa sposoby.\n",
    "• Z wykorzystaniem rozkładu na czynniki pierwsze RNWD(a, b).\n",
    "• Z wykorzystaniem algorytmu Euklidesa ENWD(a, b).\n",
    "\n",
    "\n",
    "##### 3.2 Testy wydajności\n",
    "Przygotuj procedurę testową do sprawdzenia czasu działania obu algorytmów.\n",
    "Uruchamiaj RNWD(n, q) i ENWD(n, q) dla zadanej liczby n i dla kolejnych liczb naturalnych q do pewnego\n",
    "zadanego m. Czasy działania obu algorytmów wyświetl na jednym wykresie."
   ]
  },
  {
   "cell_type": "code",
   "execution_count": 6,
   "metadata": {},
   "outputs": [],
   "source": [
    "def nwd_euklides(a, b):\n",
    "    while b != 0:\n",
    "        a, b = b, a % b\n",
    "    return a"
   ]
  },
  {
   "cell_type": "code",
   "execution_count": 7,
   "metadata": {},
   "outputs": [],
   "source": [
    "def nwd_rozklad(a, b):\n",
    "    czynniki_a = czynniki_pierwsze(a)\n",
    "    czynniki_b = czynniki_pierwsze(b)\n",
    "    i = j = 0\n",
    "    nwd = 1\n",
    "    while i < len(czynniki_a) and j < len(czynniki_b):\n",
    "        if czynniki_a[i] == czynniki_b[j]:\n",
    "            nwd *= czynniki_a[i]\n",
    "            i += 1\n",
    "            j += 1\n",
    "        elif czynniki_a[i] < czynniki_b[j]:\n",
    "            i += 1\n",
    "        else:\n",
    "            j += 1\n",
    "    return nwd"
   ]
  },
  {
   "cell_type": "code",
   "execution_count": 8,
   "metadata": {},
   "outputs": [
    {
     "name": "stdout",
     "output_type": "stream",
     "text": [
      "12\n",
      "12\n"
     ]
    }
   ],
   "source": [
    "print(nwd_euklides(24, 36))\n",
    "print(nwd_rozklad(24, 36))"
   ]
  },
  {
   "cell_type": "code",
   "execution_count": 9,
   "metadata": {},
   "outputs": [],
   "source": [
    "test_enwd = '''\n",
    "\n",
    "def nwd_euklides(a, b):\n",
    "    while b != 0:\n",
    "        a, b = b, a % b\n",
    "    return a\n",
    "\n",
    "nwd_euklides(24, 36)\n",
    "\n",
    "'''"
   ]
  },
  {
   "cell_type": "code",
   "execution_count": 10,
   "metadata": {},
   "outputs": [],
   "source": [
    "test_rnwd = '''\n",
    "\n",
    "def czynniki_pierwsze(n_i):\n",
    "\n",
    "    czynniki_l = [] # Lista czynników\n",
    "    i = 2 # Sprawdzanie zaczynamy od dwójki, jest to najmniejszy czynnik pierwszy\n",
    "\n",
    "    while i**2 <= n_i: # i**2 <= n jest równoznaczne z i <= sqrt(n)\n",
    "        if n_i % i != 0: # jeśli n nie jest podzielne przez czynnik, szukamy dalej\n",
    "            i += 1\n",
    "        else:\n",
    "            czynniki_l.append(i)\n",
    "            czynniki_l.extend(czynniki_pierwsze(n_i//i)) # Wywołujemy funkcję z n podzielonym przez znaleziony czynnik\n",
    "            return czynniki_l\n",
    "\n",
    "    # Poniższy kod wykona się jeśli n jest równe 1, 2 bądź 3\n",
    "\n",
    "    if n_i != 1:\n",
    "        czynniki_l.append(n_i)\n",
    "    return czynniki_l\n",
    "\n",
    "def nwd_rozklad(a, b):\n",
    "    czynniki_a = czynniki_pierwsze(a)\n",
    "    czynniki_b = czynniki_pierwsze(b)\n",
    "    i = j = 0\n",
    "    nwd = 1\n",
    "    while i < len(czynniki_a) and j < len(czynniki_b):\n",
    "        if czynniki_a[i] == czynniki_b[j]:\n",
    "            nwd *= czynniki_a[i]\n",
    "            i += 1\n",
    "            j += 1\n",
    "        elif czynniki_a[i] < czynniki_b[j]:\n",
    "            i += 1\n",
    "        else:\n",
    "            j += 1\n",
    "    return nwd\n",
    "\n",
    "\n",
    "nwd_rozklad(24, 36)\n",
    "\n",
    "'''"
   ]
  },
  {
   "cell_type": "code",
   "execution_count": 11,
   "metadata": {},
   "outputs": [
    {
     "name": "stdout",
     "output_type": "stream",
     "text": [
      "Podaj liczbę dla której chcesz znaleźć nwd12\n",
      "Podaj górną granica przedziału liczb naturalnych12\n"
     ]
    },
    {
     "data": {
      "image/png": "[encoded data removed]",
      "text/plain": [
       "<Figure size 640x480 with 1 Axes>"
      ]
     },
     "metadata": {},
     "output_type": "display_data"
    }
   ],
   "source": [
    "n = int(input(\"Podaj liczbę dla której chcesz znaleźć nwd\"))\n",
    "m = int(input(\"Podaj górną granica przedziału liczb naturalnych\"))\n",
    "\n",
    "def test_func(n, m):\n",
    "    list_endw_times = []\n",
    "    list_rndw_times = []\n",
    "\n",
    "    for q in range(1, m+1):\n",
    "        list_rndw_times.append(timeit.timeit(f'nwd_rozklad({n}, {q})', number=5, globals=globals()))\n",
    "        list_endw_times.append(timeit.timeit(f'nwd_euklides({n}, {q})', number=5, globals=globals()))\n",
    "\n",
    "    plt.plot(range(1, m+1), list_rndw_times, label='RNWD')\n",
    "    plt.plot(range(1, m+1), list_endw_times, label='ENWD')\n",
    "    plt.title(f'Comparison of RNWD and ENWD for n={n}')\n",
    "    plt.xlabel('q')\n",
    "    plt.ylabel('Time (s)')\n",
    "    plt.legend()\n",
    "    plt.show()\n",
    "\n",
    "test_func(n, m)"
   ]
  },
  {
   "cell_type": "markdown",
   "metadata": {},
   "source": [
    "### Zadanie nr 4\n",
    "Zaimplementuj dwa algorytmy testowania pierwszości liczb\n",
    "• test Fermata,\n",
    "• test Millera-Rabina.\n",
    "Wykorzystaj szybki algorytm potęgowania modulo."
   ]
  },
  {
   "cell_type": "code",
   "execution_count": 12,
   "metadata": {},
   "outputs": [],
   "source": [
    "# Algorytm potęgowania modulo\n",
    "\n",
    "def pow_mod(a, b, n):\n",
    "    wynik = 1\n",
    "    while b > 0:\n",
    "        if b & 1: # sprawdzenie czy liczba jest nieparzysta\n",
    "            wynik = (wynik * a) % n\n",
    "        a = (a * a) % n\n",
    "        b >>= 1 # równoznacznośc z podzieleniem przez 2\n",
    "    return wynik"
   ]
  },
  {
   "cell_type": "code",
   "execution_count": 13,
   "metadata": {},
   "outputs": [],
   "source": [
    "tru = \"Liczba z dużym prawdopodobieństwem jest pierwsza\"\n",
    "fols = \"Liczba nie jest pierwsza\""
   ]
  },
  {
   "cell_type": "code",
   "execution_count": 14,
   "metadata": {},
   "outputs": [],
   "source": [
    "def fermat_test(p, k=100):\n",
    "\n",
    "    if p == 2:\n",
    "        return tru\n",
    "\n",
    "    if not p % 2:\n",
    "        return fols\n",
    "\n",
    "    for i in range(k):\n",
    "\n",
    "        a = random.randint(1, p-1)\n",
    "\n",
    "        if pow_mod(a, p-1, p) != 1:\n",
    "            return fols\n",
    "\n",
    "    return tru"
   ]
  },
  {
   "cell_type": "code",
   "execution_count": 15,
   "metadata": {},
   "outputs": [
    {
     "name": "stdout",
     "output_type": "stream",
     "text": [
      "Podaj liczbę do sprawdzenia12\n",
      "Liczba nie jest pierwsza\n"
     ]
    }
   ],
   "source": [
    "n = int(input(\"Podaj liczbę do sprawdzenia\"))\n",
    "print(fermat_test(n))"
   ]
  },
  {
   "cell_type": "code",
   "execution_count": 16,
   "metadata": {},
   "outputs": [],
   "source": [
    "def miller_test(n, k=100):\n",
    "    if n == 2 or n == 3:\n",
    "        return tru\n",
    "\n",
    "    if not n & 1:\n",
    "        return fols\n",
    "\n",
    "    d = n - 1\n",
    "    s = 0\n",
    "\n",
    "    while d % 2 == 0:\n",
    "        d //= 2\n",
    "        s += 1\n",
    "\n",
    "\n",
    "    for i in range(k):\n",
    "        a = random.randint(2, n-2)\n",
    "        x = pow_mod(a, d, n)\n",
    "        if x == 1 or x == n-1:\n",
    "            continue\n",
    "        for j in range(s-1):\n",
    "            x = pow_mod(x, 2, n)\n",
    "            if x == n-1:\n",
    "                break\n",
    "        else:\n",
    "            return fols\n",
    "\n",
    "    return tru"
   ]
  },
  {
   "cell_type": "code",
   "execution_count": 17,
   "metadata": {},
   "outputs": [
    {
     "name": "stdout",
     "output_type": "stream",
     "text": [
      "Podaj liczbę do sprawdzenia12\n",
      "Liczba nie jest pierwsza\n"
     ]
    }
   ],
   "source": [
    "n = int(input(\"Podaj liczbę do sprawdzenia\"))\n",
    "print(miller_test(n))"
   ]
  },
  {
   "cell_type": "markdown",
   "metadata": {},
   "source": [
    "### Zadanie nr 5\n",
    "Zaimplementuj algorytm RSA. Zaszyfruj nim (i odszyfruj) przykładowe teksty. W razie potrzeby, automatycznie dziel tekst na mniejsze, osobno szyfrowane części."
   ]
  },
  {
   "cell_type": "code",
   "execution_count": 22,
   "metadata": {},
   "outputs": [
    {
     "name": "stdout",
     "output_type": "stream",
     "text": [
      "Odszyfrowana wiadomość: 12\n"
     ]
    }
   ],
   "source": [
    "# funkcja sprawdzająca, czy liczba jest pierwsza, korzystając z funkcji którą już zaimplementowałem\n",
    "def czy_pierwsza(n):\n",
    "    if len(czynniki_pierwsze(n)) == 1:\n",
    "        return True\n",
    "    else:\n",
    "        return False\n",
    "\n",
    "# Rozszerzony algorytm Euklidesa\n",
    "def rozszerzony_euklides(a, b):\n",
    "    if a == 0:\n",
    "        return b, 0, 1\n",
    "    else:\n",
    "        g, y, x = rozszerzony_euklides(b % a, a)\n",
    "        return g, x - (b // a) * y, y\n",
    "\n",
    "\n",
    "# Funkcja do obliczania odwrotności modulo\n",
    "def odwrotnosc_modulo(a, m):\n",
    "    # Wykorzystujemy rozszerzony algorytm Euklidesa\n",
    "    g, x, y = rozszerzony_euklides(a, m)\n",
    "    if g != 1:\n",
    "        raise Exception('Brak odwrotności modulo')\n",
    "    else:\n",
    "        return x % m\n",
    "\n",
    "# Funkcja do generowania kluczy RSA\n",
    "def generuj_klucz(p, q):\n",
    "    n = p * q # jest to iloczyn dwóch dużych liczb pierwszych p i q, czyli n = p * q. W RSA nazywa się modułem, który jest wykorzystywany do szyfrowania i deszyfrowania wiadomości.\n",
    "    f_eulera = (p-1) * (q-1)\n",
    "    # Wyznaczamy e - względnie pierwsze z phi\n",
    "    e = random.randrange(1, f_eulera)\n",
    "    g = nwd_euklides(e, f_eulera)\n",
    "    while g != 1:\n",
    "        e = random.randrange(1, f_eulera)\n",
    "        g = nwd_euklides(e, f_eulera)\n",
    "    # Wyznaczamy d - odwrotność modulo e\n",
    "    d = odwrotnosc_modulo(e, f_eulera)\n",
    "    return (e, n), (d, n)\n",
    "\n",
    "\n",
    "# Funkcja do szyfrowania RSA\n",
    "def szyfruj(klucz_publiczny, wiadomosc):\n",
    "    # Odczytujemy klucz publiczny\n",
    "    e, n = klucz_publiczny\n",
    "    # Zamieniamy każdy znak na odpowiadającą mu liczbę\n",
    "    szyfr = [pow(ord(char),e,n) for char in wiadomosc]\n",
    "    return szyfr\n",
    "\n",
    "# Funkcja do deszyfrowania RSA\n",
    "def odszyfruj(pk, ciphertext):\n",
    "    # Odczytujemy klucz prywatny\n",
    "    d, n = pk\n",
    "    # Zamieniamy każdą liczbę na odpowiadający jej znak\n",
    "    plaintext = [chr(pow(char,d,n)) for char in ciphertext]\n",
    "    return ''.join(plaintext)\n",
    "# Generujemy klucz RSA\n",
    "p = 41\n",
    "q = 97\n",
    "publiczny, prywatny = generuj_klucz(p, q)\n",
    "print(\"Klucz publiczny:\", publiczny)\n",
    "print(\"Klucz prywatny:\", prywatny )\n",
    "wiadomosc = input(\"Podaj wiadomośc do zaszyfrowania\")\n",
    "zaszyfrowana_wiadomosc = szyfruj(publiczny, wiadomosc)\n",
    "print(\"Zaszyfrowana wiadomość:\", zaszyfrowana_wiadomosc)\n",
    "# Deszyfrujemy wiadomość\n",
    "odszyfrowana_wiadomosc = odszyfruj(prywatny, zaszyfrowana_wiadomosc)\n",
    "print(\"Odszyfrowana wiadomość:\", odszyfrowana_wiadomosc)"
   ]
  }
 ],
 "metadata": {
  "kernelspec": {
   "display_name": "Python 3 (ipykernel)",
   "language": "python",
   "name": "python3"
  },
  "language_info": {
   "codemirror_mode": {
    "name": "ipython",
    "version": 3
   },
   "file_extension": ".py",
   "mimetype": "text/x-python",
   "name": "python",
   "nbconvert_exporter": "python",
   "pygments_lexer": "ipython3",
   "version": "3.10.9"
  }
 },
 "nbformat": 4,
 "nbformat_minor": 1
}
