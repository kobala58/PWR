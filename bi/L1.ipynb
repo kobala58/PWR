{
    "metadata": {
        "kernelspec": {
            "name": "SQL",
            "display_name": "SQL",
            "language": "sql"
        },
        "language_info": {
            "name": "sql",
            "version": ""
        }
    },
    "nbformat_minor": 2,
    "nbformat": 4,
    "cells": [
        {
            "cell_type": "code",
            "source": [
                "SELECT ProductID, Name, Color, ListPrice, StandardCost, \n",
                "       Class = CASE \n",
                "                  WHEN Class = 'H' THEN 'High'\n",
                "                  WHEN Class = 'M' THEN 'Medium'\n",
                "                  WHEN Class = 'L' THEN 'Low'\n",
                "               END,\n",
                "       ProductLine = CASE \n",
                "                        WHEN ProductLine = 'R' THEN 'Road'\n",
                "                        WHEN ProductLine = 'M' THEN 'Mountain'\n",
                "                        WHEN ProductLine = 'T' THEN 'Touring'\n",
                "                        WHEN ProductLine = 'S' THEN 'Standard'\n",
                "                     END\n",
                "FROM AdventureWorks2014.dbo.Product\n",
                "ORDER BY Name;"
            ],
            "metadata": {
                "azdata_cell_guid": "263956ca-e6cd-4cc3-a0b4-e05fbc944e66",
                "language": "sql"
            },
            "outputs": [
                {
                    "output_type": "error",
                    "evalue": "Msg 208, Level 16, State 1, Line 1\nInvalid object name 'AdventureWorks2014.dbo.Product'.",
                    "ename": "",
                    "traceback": []
                },
                {
                    "output_type": "display_data",
                    "data": {
                        "text/html": "Total execution time: 00:00:00.003"
                    },
                    "metadata": {}
                }
            ],
            "execution_count": 2
        }
    ]
}