{
    "metadata": {
        "kernelspec": {
            "name": "SQL",
            "display_name": "SQL",
            "language": "sql"
        },
        "language_info": {
            "name": "sql",
            "version": ""
        }
    },
    "nbformat_minor": 2,
    "nbformat": 4,
    "cells": [
        {
            "cell_type": "markdown",
            "source": [
                "Wyświetl wszystkie identyfikatory, nazwy, kolor, cenę katalogową oraz zysk (oblicz)\n",
                "\n",
                "produktów – uporządkuj wyniki alfabetycznie wg. nazwy. Dodatkowo wyświetl pełną\n",
                "\n",
                "nazwę (bez skrótu) klasy (class, H = High, M = Medium, L = Low) oraz nazwę typu\n",
                "\n",
                "(productline, R = Road, M = Mountain, T = Touring, S = Standard)"
            ],
            "metadata": {
                "language": "sql",
                "azdata_cell_guid": "a2574241-c6b8-4e5b-96a4-564428f007d1"
            },
            "attachments": {}
        },
        {
            "cell_type": "code",
            "source": [
                "SELECT TOP 5 ProductID, Name, Color, ListPrice, StandardCost, \n",
                "\n",
                "       Class = CASE \n",
                "                  WHEN Class = 'H' THEN 'High'\n",
                "                  WHEN Class = 'M' THEN 'Medium'\n",
                "                  WHEN Class = 'L' THEN 'Low'\n",
                "               END,\n",
                "       ProductLine = CASE \n",
                "                        WHEN ProductLine = 'R' THEN 'Road'\n",
                "                        WHEN ProductLine = 'M' THEN 'Mountain'\n",
                "                        WHEN ProductLine = 'T' THEN 'Touring'\n",
                "                        WHEN ProductLine = 'S' THEN 'Standard'\n",
                "                     END\n",
                "FROM Production.Product\n",
                "\n",
                "\n",
                "ORDER BY Name;\n",
                "\n",
                ""
            ],
            "metadata": {
                "azdata_cell_guid": "82e7b98c-37e8-436b-a9f2-c500ff17fb36",
                "language": "sql"
            },
            "outputs": [
                {
                    "output_type": "display_data",
                    "data": {
                        "text/html": "(5 rows affected)"
                    },
                    "metadata": {}
                },
                {
                    "output_type": "display_data",
                    "data": {
                        "text/html": "Total execution time: 00:00:00.012"
                    },
                    "metadata": {}
                },
                {
                    "output_type": "execute_result",
                    "metadata": {},
                    "execution_count": 2,
                    "data": {
                        "application/vnd.dataresource+json": {
                            "schema": {
                                "fields": [
                                    {
                                        "name": "ProductID"
                                    },
                                    {
                                        "name": "Name"
                                    },
                                    {
                                        "name": "Color"
                                    },
                                    {
                                        "name": "ListPrice"
                                    },
                                    {
                                        "name": "StandardCost"
                                    },
                                    {
                                        "name": "Class"
                                    },
                                    {
                                        "name": "ProductLine"
                                    }
                                ]
                            },
                            "data": [
                                {
                                    "ProductID": "1",
                                    "Name": "Adjustable Race",
                                    "Color": "NULL",
                                    "ListPrice": "0.00",
                                    "StandardCost": "0.00",
                                    "Class": "NULL",
                                    "ProductLine": "NULL"
                                },
                                {
                                    "ProductID": "879",
                                    "Name": "All-Purpose Bike Stand",
                                    "Color": "NULL",
                                    "ListPrice": "159.00",
                                    "StandardCost": "59.466",
                                    "Class": "NULL",
                                    "ProductLine": "Mountain"
                                },
                                {
                                    "ProductID": "712",
                                    "Name": "AWC Logo Cap",
                                    "Color": "Multi",
                                    "ListPrice": "8.99",
                                    "StandardCost": "6.9223",
                                    "Class": "NULL",
                                    "ProductLine": "Standard"
                                },
                                {
                                    "ProductID": "3",
                                    "Name": "BB Ball Bearing",
                                    "Color": "NULL",
                                    "ListPrice": "0.00",
                                    "StandardCost": "0.00",
                                    "Class": "NULL",
                                    "ProductLine": "NULL"
                                },
                                {
                                    "ProductID": "2",
                                    "Name": "Bearing Ball",
                                    "Color": "NULL",
                                    "ListPrice": "0.00",
                                    "StandardCost": "0.00",
                                    "Class": "NULL",
                                    "ProductLine": "NULL"
                                }
                            ]
                        },
                        "text/html": [
                            "<table>",
                            "<tr><th>ProductID</th><th>Name</th><th>Color</th><th>ListPrice</th><th>StandardCost</th><th>Class</th><th>ProductLine</th></tr>",
                            "<tr><td>1</td><td>Adjustable Race</td><td>NULL</td><td>0.00</td><td>0.00</td><td>NULL</td><td>NULL</td></tr>",
                            "<tr><td>879</td><td>All-Purpose Bike Stand</td><td>NULL</td><td>159.00</td><td>59.466</td><td>NULL</td><td>Mountain</td></tr>",
                            "<tr><td>712</td><td>AWC Logo Cap</td><td>Multi</td><td>8.99</td><td>6.9223</td><td>NULL</td><td>Standard</td></tr>",
                            "<tr><td>3</td><td>BB Ball Bearing</td><td>NULL</td><td>0.00</td><td>0.00</td><td>NULL</td><td>NULL</td></tr>",
                            "<tr><td>2</td><td>Bearing Ball</td><td>NULL</td><td>0.00</td><td>0.00</td><td>NULL</td><td>NULL</td></tr>",
                            "</table>"
                        ]
                    }
                }
            ],
            "execution_count": 2
        },
        {
            "cell_type": "code",
            "source": [
                "-- B \n",
                "SELECT TOP 5 Name, ListPrice\n",
                "FROM Production.Product\n",
                "WHERE ListPrice > 10 AND (Color IS NULL OR Color = 'Red')\n",
                "ORDER BY ListPrice ASC;"
            ],
            "metadata": {
                "language": "sql",
                "azdata_cell_guid": "168bb56d-6476-4f50-b364-0463a8cb4c5a"
            },
            "outputs": [
                {
                    "output_type": "display_data",
                    "data": {
                        "text/html": "(5 rows affected)"
                    },
                    "metadata": {}
                },
                {
                    "output_type": "display_data",
                    "data": {
                        "text/html": "Total execution time: 00:00:00.003"
                    },
                    "metadata": {}
                },
                {
                    "output_type": "execute_result",
                    "metadata": {},
                    "execution_count": 3,
                    "data": {
                        "application/vnd.dataresource+json": {
                            "schema": {
                                "fields": [
                                    {
                                        "name": "Name"
                                    },
                                    {
                                        "name": "ListPrice"
                                    }
                                ]
                            },
                            "data": [
                                {
                                    "Name": "Taillights - Battery-Powered",
                                    "ListPrice": "13.99"
                                },
                                {
                                    "Name": "Minipump",
                                    "ListPrice": "19.99"
                                },
                                {
                                    "Name": "LL Road Tire",
                                    "ListPrice": "21.49"
                                },
                                {
                                    "Name": "Fender Set - Mountain",
                                    "ListPrice": "21.98"
                                },
                                {
                                    "Name": "Mountain Pump",
                                    "ListPrice": "24.99"
                                }
                            ]
                        },
                        "text/html": [
                            "<table>",
                            "<tr><th>Name</th><th>ListPrice</th></tr>",
                            "<tr><td>Taillights - Battery-Powered</td><td>13.99</td></tr>",
                            "<tr><td>Minipump</td><td>19.99</td></tr>",
                            "<tr><td>LL Road Tire</td><td>21.49</td></tr>",
                            "<tr><td>Fender Set - Mountain</td><td>21.98</td></tr>",
                            "<tr><td>Mountain Pump</td><td>24.99</td></tr>",
                            "</table>"
                        ]
                    }
                }
            ],
            "execution_count": 3
        },
        {
            "cell_type": "code",
            "source": [
                "-- C\n",
                "SELECT TOP 5 p.Name, ps.Name AS SubcategoryName\n",
                "\n",
                "FROM Production.Product p\n",
                "JOIN Production.ProductSubcategory ps ON p.ProductSubcategoryID = ps.ProductSubcategoryID;\n",
                ""
            ],
            "metadata": {
                "azdata_cell_guid": "6948a287-e228-40d0-9be4-08556854183c",
                "language": "sql"
            },
            "outputs": [
                {
                    "output_type": "display_data",
                    "data": {
                        "text/html": "(5 rows affected)"
                    },
                    "metadata": {}
                },
                {
                    "output_type": "display_data",
                    "data": {
                        "text/html": "Total execution time: 00:00:00.003"
                    },
                    "metadata": {}
                },
                {
                    "output_type": "execute_result",
                    "metadata": {},
                    "execution_count": 4,
                    "data": {
                        "application/vnd.dataresource+json": {
                            "schema": {
                                "fields": [
                                    {
                                        "name": "Name"
                                    },
                                    {
                                        "name": "SubcategoryName"
                                    }
                                ]
                            },
                            "data": [
                                {
                                    "Name": "HL Road Frame - Black, 58",
                                    "SubcategoryName": "Road Frames"
                                },
                                {
                                    "Name": "HL Road Frame - Red, 58",
                                    "SubcategoryName": "Road Frames"
                                },
                                {
                                    "Name": "Sport-100 Helmet, Red",
                                    "SubcategoryName": "Helmets"
                                },
                                {
                                    "Name": "Sport-100 Helmet, Black",
                                    "SubcategoryName": "Helmets"
                                },
                                {
                                    "Name": "Mountain Bike Socks, M",
                                    "SubcategoryName": "Socks"
                                }
                            ]
                        },
                        "text/html": [
                            "<table>",
                            "<tr><th>Name</th><th>SubcategoryName</th></tr>",
                            "<tr><td>HL Road Frame - Black, 58</td><td>Road Frames</td></tr>",
                            "<tr><td>HL Road Frame - Red, 58</td><td>Road Frames</td></tr>",
                            "<tr><td>Sport-100 Helmet, Red</td><td>Helmets</td></tr>",
                            "<tr><td>Sport-100 Helmet, Black</td><td>Helmets</td></tr>",
                            "<tr><td>Mountain Bike Socks, M</td><td>Socks</td></tr>",
                            "</table>"
                        ]
                    }
                }
            ],
            "execution_count": 4
        },
        {
            "cell_type": "code",
            "source": [
                "-- D\n",
                "SELECT p.Name, ps.Name AS SubcategoryName, pc.Name AS CategoryName\n",
                "FROM Production.Product p\n",
                "JOIN Production.ProductSubcategory ps ON p.ProductSubcategoryID = ps.ProductSubcategoryID\n",
                "JOIN Production.ProductCategory pc ON ps.ProductCategoryID = pc.ProductCategoryID;\n",
                ""
            ],
            "metadata": {
                "language": "sql",
                "azdata_cell_guid": "4800a6ca-0c85-4204-b586-feb85f2e197e"
            },
            "outputs": [
                {
                    "output_type": "display_data",
                    "data": {
                        "text/html": "(295 rows affected)"
                    },
                    "metadata": {}
                },
                {
                    "output_type": "display_data",
                    "data": {
                        "text/html": "Total execution time: 00:00:00.016"
                    },
                    "metadata": {}
                },
                {
                    "output_type": "execute_result",
                    "metadata": {},
                    "execution_count": 13,
                    "data": {
                        "application/vnd.dataresource+json": {
                            "schema": {
                                "fields": [
                                    {
                                        "name": "Name"
                                    },
                                    {
                                        "name": "SubcategoryName"
                                    },
                                    {
                                        "name": "CategoryName"
                                    }
                                ]
                            },
                            "data": [
                                {
                                    "Name": "HL Road Frame - Black, 58",
                                    "SubcategoryName": "Road Frames",
                                    "CategoryName": "Components"
                                },
                                {
                                    "Name": "HL Road Frame - Red, 58",
                                    "SubcategoryName": "Road Frames",
                                    "CategoryName": "Components"
                                },
                                {
                                    "Name": "Sport-100 Helmet, Red",
                                    "SubcategoryName": "Helmets",
                                    "CategoryName": "Accessories"
                                },
                                {
                                    "Name": "Sport-100 Helmet, Black",
                                    "SubcategoryName": "Helmets",
                                    "CategoryName": "Accessories"
                                },
                                {
                                    "Name": "Mountain Bike Socks, M",
                                    "SubcategoryName": "Socks",
                                    "CategoryName": "Clothing"
                                },
                                {
                                    "Name": "Mountain Bike Socks, L",
                                    "SubcategoryName": "Socks",
                                    "CategoryName": "Clothing"
                                },
                                {
                                    "Name": "Sport-100 Helmet, Blue",
                                    "SubcategoryName": "Helmets",
                                    "CategoryName": "Accessories"
                                },
                                {
                                    "Name": "AWC Logo Cap",
                                    "SubcategoryName": "Caps",
                                    "CategoryName": "Clothing"
                                },
                                {
                                    "Name": "Long-Sleeve Logo Jersey, S",
                                    "SubcategoryName": "Jerseys",
                                    "CategoryName": "Clothing"
                                },
                                {
                                    "Name": "Long-Sleeve Logo Jersey, M",
                                    "SubcategoryName": "Jerseys",
                                    "CategoryName": "Clothing"
                                },
                                {
                                    "Name": "Long-Sleeve Logo Jersey, L",
                                    "SubcategoryName": "Jerseys",
                                    "CategoryName": "Clothing"
                                },
                                {
                                    "Name": "Long-Sleeve Logo Jersey, XL",
                                    "SubcategoryName": "Jerseys",
                                    "CategoryName": "Clothing"
                                },
                                {
                                    "Name": "HL Road Frame - Red, 62",
                                    "SubcategoryName": "Road Frames",
                                    "CategoryName": "Components"
                                },
                                {
                                    "Name": "HL Road Frame - Red, 44",
                                    "SubcategoryName": "Road Frames",
                                    "CategoryName": "Components"
                                },
                                {
                                    "Name": "HL Road Frame - Red, 48",
                                    "SubcategoryName": "Road Frames",
                                    "CategoryName": "Components"
                                },
                                {
                                    "Name": "HL Road Frame - Red, 52",
                                    "SubcategoryName": "Road Frames",
                                    "CategoryName": "Components"
                                },
                                {
                                    "Name": "HL Road Frame - Red, 56",
                                    "SubcategoryName": "Road Frames",
                                    "CategoryName": "Components"
                                },
                                {
                                    "Name": "LL Road Frame - Black, 58",
                                    "SubcategoryName": "Road Frames",
                                    "CategoryName": "Components"
                                },
                                {
                                    "Name": "LL Road Frame - Black, 60",
                                    "SubcategoryName": "Road Frames",
                                    "CategoryName": "Components"
                                },
                                {
                                    "Name": "LL Road Frame - Black, 62",
                                    "SubcategoryName": "Road Frames",
                                    "CategoryName": "Components"
                                },
                                {
                                    "Name": "LL Road Frame - Red, 44",
                                    "SubcategoryName": "Road Frames",
                                    "CategoryName": "Components"
                                },
                                {
                                    "Name": "LL Road Frame - Red, 48",
                                    "SubcategoryName": "Road Frames",
                                    "CategoryName": "Components"
                                },
                                {
                                    "Name": "LL Road Frame - Red, 52",
                                    "SubcategoryName": "Road Frames",
                                    "CategoryName": "Components"
                                },
                                {
                                    "Name": "LL Road Frame - Red, 58",
                                    "SubcategoryName": "Road Frames",
                                    "CategoryName": "Components"
                                },
                                {
                                    "Name": "LL Road Frame - Red, 60",
                                    "SubcategoryName": "Road Frames",
                                    "CategoryName": "Components"
                                },
                                {
                                    "Name": "LL Road Frame - Red, 62",
                                    "SubcategoryName": "Road Frames",
                                    "CategoryName": "Components"
                                },
                                {
                                    "Name": "ML Road Frame - Red, 44",
                                    "SubcategoryName": "Road Frames",
                                    "CategoryName": "Components"
                                },
                                {
                                    "Name": "ML Road Frame - Red, 48",
                                    "SubcategoryName": "Road Frames",
                                    "CategoryName": "Components"
                                },
                                {
                                    "Name": "ML Road Frame - Red, 52",
                                    "SubcategoryName": "Road Frames",
                                    "CategoryName": "Components"
                                },
                                {
                                    "Name": "ML Road Frame - Red, 58",
                                    "SubcategoryName": "Road Frames",
                                    "CategoryName": "Components"
                                },
                                {
                                    "Name": "ML Road Frame - Red, 60",
                                    "SubcategoryName": "Road Frames",
                                    "CategoryName": "Components"
                                },
                                {
                                    "Name": "LL Road Frame - Black, 44",
                                    "SubcategoryName": "Road Frames",
                                    "CategoryName": "Components"
                                },
                                {
                                    "Name": "LL Road Frame - Black, 48",
                                    "SubcategoryName": "Road Frames",
                                    "CategoryName": "Components"
                                },
                                {
                                    "Name": "LL Road Frame - Black, 52",
                                    "SubcategoryName": "Road Frames",
                                    "CategoryName": "Components"
                                },
                                {
                                    "Name": "HL Mountain Frame - Silver, 42",
                                    "SubcategoryName": "Mountain Frames",
                                    "CategoryName": "Components"
                                },
                                {
                                    "Name": "HL Mountain Frame - Silver, 44",
                                    "SubcategoryName": "Mountain Frames",
                                    "CategoryName": "Components"
                                },
                                {
                                    "Name": "HL Mountain Frame - Silver, 48",
                                    "SubcategoryName": "Mountain Frames",
                                    "CategoryName": "Components"
                                },
                                {
                                    "Name": "HL Mountain Frame - Silver, 46",
                                    "SubcategoryName": "Mountain Frames",
                                    "CategoryName": "Components"
                                },
                                {
                                    "Name": "HL Mountain Frame - Black, 42",
                                    "SubcategoryName": "Mountain Frames",
                                    "CategoryName": "Components"
                                },
                                {
                                    "Name": "HL Mountain Frame - Black, 44",
                                    "SubcategoryName": "Mountain Frames",
                                    "CategoryName": "Components"
                                },
                                {
                                    "Name": "HL Mountain Frame - Black, 48",
                                    "SubcategoryName": "Mountain Frames",
                                    "CategoryName": "Components"
                                },
                                {
                                    "Name": "HL Mountain Frame - Black, 46",
                                    "SubcategoryName": "Mountain Frames",
                                    "CategoryName": "Components"
                                },
                                {
                                    "Name": "HL Mountain Frame - Black, 38",
                                    "SubcategoryName": "Mountain Frames",
                                    "CategoryName": "Components"
                                },
                                {
                                    "Name": "HL Mountain Frame - Silver, 38",
                                    "SubcategoryName": "Mountain Frames",
                                    "CategoryName": "Components"
                                },
                                {
                                    "Name": "Road-150 Red, 62",
                                    "SubcategoryName": "Road Bikes",
                                    "CategoryName": "Bikes"
                                },
                                {
                                    "Name": "Road-150 Red, 44",
                                    "SubcategoryName": "Road Bikes",
                                    "CategoryName": "Bikes"
                                },
                                {
                                    "Name": "Road-150 Red, 48",
                                    "SubcategoryName": "Road Bikes",
                                    "CategoryName": "Bikes"
                                },
                                {
                                    "Name": "Road-150 Red, 52",
                                    "SubcategoryName": "Road Bikes",
                                    "CategoryName": "Bikes"
                                },
                                {
                                    "Name": "Road-150 Red, 56",
                                    "SubcategoryName": "Road Bikes",
                                    "CategoryName": "Bikes"
                                },
                                {
                                    "Name": "Road-450 Red, 58",
                                    "SubcategoryName": "Road Bikes",
                                    "CategoryName": "Bikes"
                                },
                                {
                                    "Name": "Road-450 Red, 60",
                                    "SubcategoryName": "Road Bikes",
                                    "CategoryName": "Bikes"
                                },
                                {
                                    "Name": "Road-450 Red, 44",
                                    "SubcategoryName": "Road Bikes",
                                    "CategoryName": "Bikes"
                                },
                                {
                                    "Name": "Road-450 Red, 48",
                                    "SubcategoryName": "Road Bikes",
                                    "CategoryName": "Bikes"
                                },
                                {
                                    "Name": "Road-450 Red, 52",
                                    "SubcategoryName": "Road Bikes",
                                    "CategoryName": "Bikes"
                                },
                                {
                                    "Name": "Road-650 Red, 58",
                                    "SubcategoryName": "Road Bikes",
                                    "CategoryName": "Bikes"
                                },
                                {
                                    "Name": "Road-650 Red, 60",
                                    "SubcategoryName": "Road Bikes",
                                    "CategoryName": "Bikes"
                                },
                                {
                                    "Name": "Road-650 Red, 62",
                                    "SubcategoryName": "Road Bikes",
                                    "CategoryName": "Bikes"
                                },
                                {
                                    "Name": "Road-650 Red, 44",
                                    "SubcategoryName": "Road Bikes",
                                    "CategoryName": "Bikes"
                                },
                                {
                                    "Name": "Road-650 Red, 48",
                                    "SubcategoryName": "Road Bikes",
                                    "CategoryName": "Bikes"
                                },
                                {
                                    "Name": "Road-650 Red, 52",
                                    "SubcategoryName": "Road Bikes",
                                    "CategoryName": "Bikes"
                                },
                                {
                                    "Name": "Road-650 Black, 58",
                                    "SubcategoryName": "Road Bikes",
                                    "CategoryName": "Bikes"
                                },
                                {
                                    "Name": "Road-650 Black, 60",
                                    "SubcategoryName": "Road Bikes",
                                    "CategoryName": "Bikes"
                                },
                                {
                                    "Name": "Road-650 Black, 62",
                                    "SubcategoryName": "Road Bikes",
                                    "CategoryName": "Bikes"
                                },
                                {
                                    "Name": "Road-650 Black, 44",
                                    "SubcategoryName": "Road Bikes",
                                    "CategoryName": "Bikes"
                                },
                                {
                                    "Name": "Road-650 Black, 48",
                                    "SubcategoryName": "Road Bikes",
                                    "CategoryName": "Bikes"
                                },
                                {
                                    "Name": "Road-650 Black, 52",
                                    "SubcategoryName": "Road Bikes",
                                    "CategoryName": "Bikes"
                                },
                                {
                                    "Name": "Mountain-100 Silver, 38",
                                    "SubcategoryName": "Mountain Bikes",
                                    "CategoryName": "Bikes"
                                },
                                {
                                    "Name": "Mountain-100 Silver, 42",
                                    "SubcategoryName": "Mountain Bikes",
                                    "CategoryName": "Bikes"
                                },
                                {
                                    "Name": "Mountain-100 Silver, 44",
                                    "SubcategoryName": "Mountain Bikes",
                                    "CategoryName": "Bikes"
                                },
                                {
                                    "Name": "Mountain-100 Silver, 48",
                                    "SubcategoryName": "Mountain Bikes",
                                    "CategoryName": "Bikes"
                                },
                                {
                                    "Name": "Mountain-100 Black, 38",
                                    "SubcategoryName": "Mountain Bikes",
                                    "CategoryName": "Bikes"
                                },
                                {
                                    "Name": "Mountain-100 Black, 42",
                                    "SubcategoryName": "Mountain Bikes",
                                    "CategoryName": "Bikes"
                                },
                                {
                                    "Name": "Mountain-100 Black, 44",
                                    "SubcategoryName": "Mountain Bikes",
                                    "CategoryName": "Bikes"
                                },
                                {
                                    "Name": "Mountain-100 Black, 48",
                                    "SubcategoryName": "Mountain Bikes",
                                    "CategoryName": "Bikes"
                                },
                                {
                                    "Name": "Mountain-200 Silver, 38",
                                    "SubcategoryName": "Mountain Bikes",
                                    "CategoryName": "Bikes"
                                },
                                {
                                    "Name": "Mountain-200 Silver, 42",
                                    "SubcategoryName": "Mountain Bikes",
                                    "CategoryName": "Bikes"
                                },
                                {
                                    "Name": "Mountain-200 Silver, 46",
                                    "SubcategoryName": "Mountain Bikes",
                                    "CategoryName": "Bikes"
                                },
                                {
                                    "Name": "Mountain-200 Black, 38",
                                    "SubcategoryName": "Mountain Bikes",
                                    "CategoryName": "Bikes"
                                },
                                {
                                    "Name": "Mountain-200 Black, 42",
                                    "SubcategoryName": "Mountain Bikes",
                                    "CategoryName": "Bikes"
                                },
                                {
                                    "Name": "Mountain-200 Black, 46",
                                    "SubcategoryName": "Mountain Bikes",
                                    "CategoryName": "Bikes"
                                },
                                {
                                    "Name": "Mountain-300 Black, 38",
                                    "SubcategoryName": "Mountain Bikes",
                                    "CategoryName": "Bikes"
                                },
                                {
                                    "Name": "Mountain-300 Black, 40",
                                    "SubcategoryName": "Mountain Bikes",
                                    "CategoryName": "Bikes"
                                },
                                {
                                    "Name": "Mountain-300 Black, 44",
                                    "SubcategoryName": "Mountain Bikes",
                                    "CategoryName": "Bikes"
                                },
                                {
                                    "Name": "Mountain-300 Black, 48",
                                    "SubcategoryName": "Mountain Bikes",
                                    "CategoryName": "Bikes"
                                },
                                {
                                    "Name": "Road-250 Red, 44",
                                    "SubcategoryName": "Road Bikes",
                                    "CategoryName": "Bikes"
                                },
                                {
                                    "Name": "Road-250 Red, 48",
                                    "SubcategoryName": "Road Bikes",
                                    "CategoryName": "Bikes"
                                },
                                {
                                    "Name": "Road-250 Red, 52",
                                    "SubcategoryName": "Road Bikes",
                                    "CategoryName": "Bikes"
                                },
                                {
                                    "Name": "Road-250 Red, 58",
                                    "SubcategoryName": "Road Bikes",
                                    "CategoryName": "Bikes"
                                },
                                {
                                    "Name": "Road-250 Black, 44",
                                    "SubcategoryName": "Road Bikes",
                                    "CategoryName": "Bikes"
                                },
                                {
                                    "Name": "Road-250 Black, 48",
                                    "SubcategoryName": "Road Bikes",
                                    "CategoryName": "Bikes"
                                },
                                {
                                    "Name": "Road-250 Black, 52",
                                    "SubcategoryName": "Road Bikes",
                                    "CategoryName": "Bikes"
                                },
                                {
                                    "Name": "Road-250 Black, 58",
                                    "SubcategoryName": "Road Bikes",
                                    "CategoryName": "Bikes"
                                },
                                {
                                    "Name": "Road-550-W Yellow, 38",
                                    "SubcategoryName": "Road Bikes",
                                    "CategoryName": "Bikes"
                                },
                                {
                                    "Name": "Road-550-W Yellow, 40",
                                    "SubcategoryName": "Road Bikes",
                                    "CategoryName": "Bikes"
                                },
                                {
                                    "Name": "Road-550-W Yellow, 42",
                                    "SubcategoryName": "Road Bikes",
                                    "CategoryName": "Bikes"
                                },
                                {
                                    "Name": "Road-550-W Yellow, 44",
                                    "SubcategoryName": "Road Bikes",
                                    "CategoryName": "Bikes"
                                },
                                {
                                    "Name": "Road-550-W Yellow, 48",
                                    "SubcategoryName": "Road Bikes",
                                    "CategoryName": "Bikes"
                                },
                                {
                                    "Name": "LL Fork",
                                    "SubcategoryName": "Forks",
                                    "CategoryName": "Components"
                                },
                                {
                                    "Name": "ML Fork",
                                    "SubcategoryName": "Forks",
                                    "CategoryName": "Components"
                                },
                                {
                                    "Name": "HL Fork",
                                    "SubcategoryName": "Forks",
                                    "CategoryName": "Components"
                                },
                                {
                                    "Name": "LL Headset",
                                    "SubcategoryName": "Headsets",
                                    "CategoryName": "Components"
                                },
                                {
                                    "Name": "ML Headset",
                                    "SubcategoryName": "Headsets",
                                    "CategoryName": "Components"
                                },
                                {
                                    "Name": "HL Headset",
                                    "SubcategoryName": "Headsets",
                                    "CategoryName": "Components"
                                },
                                {
                                    "Name": "LL Mountain Handlebars",
                                    "SubcategoryName": "Handlebars",
                                    "CategoryName": "Components"
                                },
                                {
                                    "Name": "ML Mountain Handlebars",
                                    "SubcategoryName": "Handlebars",
                                    "CategoryName": "Components"
                                },
                                {
                                    "Name": "HL Mountain Handlebars",
                                    "SubcategoryName": "Handlebars",
                                    "CategoryName": "Components"
                                },
                                {
                                    "Name": "LL Road Handlebars",
                                    "SubcategoryName": "Handlebars",
                                    "CategoryName": "Components"
                                },
                                {
                                    "Name": "ML Road Handlebars",
                                    "SubcategoryName": "Handlebars",
                                    "CategoryName": "Components"
                                },
                                {
                                    "Name": "HL Road Handlebars",
                                    "SubcategoryName": "Handlebars",
                                    "CategoryName": "Components"
                                },
                                {
                                    "Name": "ML Mountain Frame - Black, 38",
                                    "SubcategoryName": "Mountain Frames",
                                    "CategoryName": "Components"
                                },
                                {
                                    "Name": "LL Mountain Front Wheel",
                                    "SubcategoryName": "Wheels",
                                    "CategoryName": "Components"
                                },
                                {
                                    "Name": "ML Mountain Front Wheel",
                                    "SubcategoryName": "Wheels",
                                    "CategoryName": "Components"
                                },
                                {
                                    "Name": "HL Mountain Front Wheel",
                                    "SubcategoryName": "Wheels",
                                    "CategoryName": "Components"
                                },
                                {
                                    "Name": "LL Road Front Wheel",
                                    "SubcategoryName": "Wheels",
                                    "CategoryName": "Components"
                                },
                                {
                                    "Name": "ML Road Front Wheel",
                                    "SubcategoryName": "Wheels",
                                    "CategoryName": "Components"
                                },
                                {
                                    "Name": "HL Road Front Wheel",
                                    "SubcategoryName": "Wheels",
                                    "CategoryName": "Components"
                                },
                                {
                                    "Name": "Touring Front Wheel",
                                    "SubcategoryName": "Wheels",
                                    "CategoryName": "Components"
                                },
                                {
                                    "Name": "ML Road Frame-W - Yellow, 38",
                                    "SubcategoryName": "Road Frames",
                                    "CategoryName": "Components"
                                },
                                {
                                    "Name": "LL Mountain Rear Wheel",
                                    "SubcategoryName": "Wheels",
                                    "CategoryName": "Components"
                                },
                                {
                                    "Name": "ML Mountain Rear Wheel",
                                    "SubcategoryName": "Wheels",
                                    "CategoryName": "Components"
                                },
                                {
                                    "Name": "HL Mountain Rear Wheel",
                                    "SubcategoryName": "Wheels",
                                    "CategoryName": "Components"
                                },
                                {
                                    "Name": "LL Road Rear Wheel",
                                    "SubcategoryName": "Wheels",
                                    "CategoryName": "Components"
                                },
                                {
                                    "Name": "ML Road Rear Wheel",
                                    "SubcategoryName": "Wheels",
                                    "CategoryName": "Components"
                                },
                                {
                                    "Name": "HL Road Rear Wheel",
                                    "SubcategoryName": "Wheels",
                                    "CategoryName": "Components"
                                },
                                {
                                    "Name": "Touring Rear Wheel",
                                    "SubcategoryName": "Wheels",
                                    "CategoryName": "Components"
                                },
                                {
                                    "Name": "ML Mountain Frame - Black, 40",
                                    "SubcategoryName": "Mountain Frames",
                                    "CategoryName": "Components"
                                },
                                {
                                    "Name": "ML Mountain Frame - Black, 44",
                                    "SubcategoryName": "Mountain Frames",
                                    "CategoryName": "Components"
                                },
                                {
                                    "Name": "ML Mountain Frame - Black, 48",
                                    "SubcategoryName": "Mountain Frames",
                                    "CategoryName": "Components"
                                },
                                {
                                    "Name": "ML Road Frame-W - Yellow, 40",
                                    "SubcategoryName": "Road Frames",
                                    "CategoryName": "Components"
                                },
                                {
                                    "Name": "ML Road Frame-W - Yellow, 42",
                                    "SubcategoryName": "Road Frames",
                                    "CategoryName": "Components"
                                },
                                {
                                    "Name": "ML Road Frame-W - Yellow, 44",
                                    "SubcategoryName": "Road Frames",
                                    "CategoryName": "Components"
                                },
                                {
                                    "Name": "ML Road Frame-W - Yellow, 48",
                                    "SubcategoryName": "Road Frames",
                                    "CategoryName": "Components"
                                },
                                {
                                    "Name": "HL Road Frame - Black, 62",
                                    "SubcategoryName": "Road Frames",
                                    "CategoryName": "Components"
                                },
                                {
                                    "Name": "HL Road Frame - Black, 44",
                                    "SubcategoryName": "Road Frames",
                                    "CategoryName": "Components"
                                },
                                {
                                    "Name": "HL Road Frame - Black, 48",
                                    "SubcategoryName": "Road Frames",
                                    "CategoryName": "Components"
                                },
                                {
                                    "Name": "HL Road Frame - Black, 52",
                                    "SubcategoryName": "Road Frames",
                                    "CategoryName": "Components"
                                },
                                {
                                    "Name": "Men's Sports Shorts, S",
                                    "SubcategoryName": "Shorts",
                                    "CategoryName": "Clothing"
                                },
                                {
                                    "Name": "Touring-Panniers, Large",
                                    "SubcategoryName": "Panniers",
                                    "CategoryName": "Accessories"
                                },
                                {
                                    "Name": "Cable Lock",
                                    "SubcategoryName": "Locks",
                                    "CategoryName": "Accessories"
                                },
                                {
                                    "Name": "Minipump",
                                    "SubcategoryName": "Pumps",
                                    "CategoryName": "Accessories"
                                },
                                {
                                    "Name": "Mountain Pump",
                                    "SubcategoryName": "Pumps",
                                    "CategoryName": "Accessories"
                                },
                                {
                                    "Name": "Taillights - Battery-Powered",
                                    "SubcategoryName": "Lights",
                                    "CategoryName": "Accessories"
                                },
                                {
                                    "Name": "Headlights - Dual-Beam",
                                    "SubcategoryName": "Lights",
                                    "CategoryName": "Accessories"
                                },
                                {
                                    "Name": "Headlights - Weatherproof",
                                    "SubcategoryName": "Lights",
                                    "CategoryName": "Accessories"
                                },
                                {
                                    "Name": "Men's Sports Shorts, M",
                                    "SubcategoryName": "Shorts",
                                    "CategoryName": "Clothing"
                                },
                                {
                                    "Name": "Men's Sports Shorts, L",
                                    "SubcategoryName": "Shorts",
                                    "CategoryName": "Clothing"
                                },
                                {
                                    "Name": "Men's Sports Shorts, XL",
                                    "SubcategoryName": "Shorts",
                                    "CategoryName": "Clothing"
                                },
                                {
                                    "Name": "Women's Tights, S",
                                    "SubcategoryName": "Tights",
                                    "CategoryName": "Clothing"
                                },
                                {
                                    "Name": "Women's Tights, M",
                                    "SubcategoryName": "Tights",
                                    "CategoryName": "Clothing"
                                },
                                {
                                    "Name": "Women's Tights, L",
                                    "SubcategoryName": "Tights",
                                    "CategoryName": "Clothing"
                                },
                                {
                                    "Name": "Men's Bib-Shorts, S",
                                    "SubcategoryName": "Bib-Shorts",
                                    "CategoryName": "Clothing"
                                },
                                {
                                    "Name": "Men's Bib-Shorts, M",
                                    "SubcategoryName": "Bib-Shorts",
                                    "CategoryName": "Clothing"
                                },
                                {
                                    "Name": "Men's Bib-Shorts, L",
                                    "SubcategoryName": "Bib-Shorts",
                                    "CategoryName": "Clothing"
                                },
                                {
                                    "Name": "Half-Finger Gloves, S",
                                    "SubcategoryName": "Gloves",
                                    "CategoryName": "Clothing"
                                },
                                {
                                    "Name": "Half-Finger Gloves, M",
                                    "SubcategoryName": "Gloves",
                                    "CategoryName": "Clothing"
                                },
                                {
                                    "Name": "Half-Finger Gloves, L",
                                    "SubcategoryName": "Gloves",
                                    "CategoryName": "Clothing"
                                },
                                {
                                    "Name": "Full-Finger Gloves, S",
                                    "SubcategoryName": "Gloves",
                                    "CategoryName": "Clothing"
                                },
                                {
                                    "Name": "Full-Finger Gloves, M",
                                    "SubcategoryName": "Gloves",
                                    "CategoryName": "Clothing"
                                },
                                {
                                    "Name": "Full-Finger Gloves, L",
                                    "SubcategoryName": "Gloves",
                                    "CategoryName": "Clothing"
                                },
                                {
                                    "Name": "Classic Vest, S",
                                    "SubcategoryName": "Vests",
                                    "CategoryName": "Clothing"
                                },
                                {
                                    "Name": "Classic Vest, M",
                                    "SubcategoryName": "Vests",
                                    "CategoryName": "Clothing"
                                },
                                {
                                    "Name": "Classic Vest, L",
                                    "SubcategoryName": "Vests",
                                    "CategoryName": "Clothing"
                                },
                                {
                                    "Name": "Women's Mountain Shorts, S",
                                    "SubcategoryName": "Shorts",
                                    "CategoryName": "Clothing"
                                },
                                {
                                    "Name": "Women's Mountain Shorts, M",
                                    "SubcategoryName": "Shorts",
                                    "CategoryName": "Clothing"
                                },
                                {
                                    "Name": "Women's Mountain Shorts, L",
                                    "SubcategoryName": "Shorts",
                                    "CategoryName": "Clothing"
                                },
                                {
                                    "Name": "Water Bottle - 30 oz.",
                                    "SubcategoryName": "Bottles and Cages",
                                    "CategoryName": "Accessories"
                                },
                                {
                                    "Name": "Mountain Bottle Cage",
                                    "SubcategoryName": "Bottles and Cages",
                                    "CategoryName": "Accessories"
                                },
                                {
                                    "Name": "Road Bottle Cage",
                                    "SubcategoryName": "Bottles and Cages",
                                    "CategoryName": "Accessories"
                                },
                                {
                                    "Name": "Patch Kit/8 Patches",
                                    "SubcategoryName": "Tires and Tubes",
                                    "CategoryName": "Accessories"
                                },
                                {
                                    "Name": "Racing Socks, M",
                                    "SubcategoryName": "Socks",
                                    "CategoryName": "Clothing"
                                },
                                {
                                    "Name": "Racing Socks, L",
                                    "SubcategoryName": "Socks",
                                    "CategoryName": "Clothing"
                                },
                                {
                                    "Name": "Hitch Rack - 4-Bike",
                                    "SubcategoryName": "Bike Racks",
                                    "CategoryName": "Accessories"
                                },
                                {
                                    "Name": "Bike Wash - Dissolver",
                                    "SubcategoryName": "Cleaners",
                                    "CategoryName": "Accessories"
                                },
                                {
                                    "Name": "Fender Set - Mountain",
                                    "SubcategoryName": "Fenders",
                                    "CategoryName": "Accessories"
                                },
                                {
                                    "Name": "All-Purpose Bike Stand",
                                    "SubcategoryName": "Bike Stands",
                                    "CategoryName": "Accessories"
                                },
                                {
                                    "Name": "Hydration Pack - 70 oz.",
                                    "SubcategoryName": "Hydration Packs",
                                    "CategoryName": "Accessories"
                                },
                                {
                                    "Name": "Short-Sleeve Classic Jersey, S",
                                    "SubcategoryName": "Jerseys",
                                    "CategoryName": "Clothing"
                                },
                                {
                                    "Name": "Short-Sleeve Classic Jersey, M",
                                    "SubcategoryName": "Jerseys",
                                    "CategoryName": "Clothing"
                                },
                                {
                                    "Name": "Short-Sleeve Classic Jersey, L",
                                    "SubcategoryName": "Jerseys",
                                    "CategoryName": "Clothing"
                                },
                                {
                                    "Name": "Short-Sleeve Classic Jersey, XL",
                                    "SubcategoryName": "Jerseys",
                                    "CategoryName": "Clothing"
                                },
                                {
                                    "Name": "HL Touring Frame - Yellow, 60",
                                    "SubcategoryName": "Touring Frames",
                                    "CategoryName": "Components"
                                },
                                {
                                    "Name": "LL Touring Frame - Yellow, 62",
                                    "SubcategoryName": "Touring Frames",
                                    "CategoryName": "Components"
                                },
                                {
                                    "Name": "HL Touring Frame - Yellow, 46",
                                    "SubcategoryName": "Touring Frames",
                                    "CategoryName": "Components"
                                },
                                {
                                    "Name": "HL Touring Frame - Yellow, 50",
                                    "SubcategoryName": "Touring Frames",
                                    "CategoryName": "Components"
                                },
                                {
                                    "Name": "HL Touring Frame - Yellow, 54",
                                    "SubcategoryName": "Touring Frames",
                                    "CategoryName": "Components"
                                },
                                {
                                    "Name": "HL Touring Frame - Blue, 46",
                                    "SubcategoryName": "Touring Frames",
                                    "CategoryName": "Components"
                                },
                                {
                                    "Name": "HL Touring Frame - Blue, 50",
                                    "SubcategoryName": "Touring Frames",
                                    "CategoryName": "Components"
                                },
                                {
                                    "Name": "HL Touring Frame - Blue, 54",
                                    "SubcategoryName": "Touring Frames",
                                    "CategoryName": "Components"
                                },
                                {
                                    "Name": "HL Touring Frame - Blue, 60",
                                    "SubcategoryName": "Touring Frames",
                                    "CategoryName": "Components"
                                },
                                {
                                    "Name": "Rear Derailleur",
                                    "SubcategoryName": "Derailleurs",
                                    "CategoryName": "Components"
                                },
                                {
                                    "Name": "LL Touring Frame - Blue, 50",
                                    "SubcategoryName": "Touring Frames",
                                    "CategoryName": "Components"
                                },
                                {
                                    "Name": "LL Touring Frame - Blue, 54",
                                    "SubcategoryName": "Touring Frames",
                                    "CategoryName": "Components"
                                },
                                {
                                    "Name": "LL Touring Frame - Blue, 58",
                                    "SubcategoryName": "Touring Frames",
                                    "CategoryName": "Components"
                                },
                                {
                                    "Name": "LL Touring Frame - Blue, 62",
                                    "SubcategoryName": "Touring Frames",
                                    "CategoryName": "Components"
                                },
                                {
                                    "Name": "LL Touring Frame - Yellow, 44",
                                    "SubcategoryName": "Touring Frames",
                                    "CategoryName": "Components"
                                },
                                {
                                    "Name": "LL Touring Frame - Yellow, 50",
                                    "SubcategoryName": "Touring Frames",
                                    "CategoryName": "Components"
                                },
                                {
                                    "Name": "LL Touring Frame - Yellow, 54",
                                    "SubcategoryName": "Touring Frames",
                                    "CategoryName": "Components"
                                },
                                {
                                    "Name": "LL Touring Frame - Yellow, 58",
                                    "SubcategoryName": "Touring Frames",
                                    "CategoryName": "Components"
                                },
                                {
                                    "Name": "LL Touring Frame - Blue, 44",
                                    "SubcategoryName": "Touring Frames",
                                    "CategoryName": "Components"
                                },
                                {
                                    "Name": "ML Mountain Frame-W - Silver, 40",
                                    "SubcategoryName": "Mountain Frames",
                                    "CategoryName": "Components"
                                },
                                {
                                    "Name": "ML Mountain Frame-W - Silver, 42",
                                    "SubcategoryName": "Mountain Frames",
                                    "CategoryName": "Components"
                                },
                                {
                                    "Name": "ML Mountain Frame-W - Silver, 46",
                                    "SubcategoryName": "Mountain Frames",
                                    "CategoryName": "Components"
                                },
                                {
                                    "Name": "Rear Brakes",
                                    "SubcategoryName": "Brakes",
                                    "CategoryName": "Components"
                                },
                                {
                                    "Name": "LL Mountain Seat/Saddle",
                                    "SubcategoryName": "Saddles",
                                    "CategoryName": "Components"
                                },
                                {
                                    "Name": "ML Mountain Seat/Saddle",
                                    "SubcategoryName": "Saddles",
                                    "CategoryName": "Components"
                                },
                                {
                                    "Name": "HL Mountain Seat/Saddle",
                                    "SubcategoryName": "Saddles",
                                    "CategoryName": "Components"
                                },
                                {
                                    "Name": "LL Road Seat/Saddle",
                                    "SubcategoryName": "Saddles",
                                    "CategoryName": "Components"
                                },
                                {
                                    "Name": "ML Road Seat/Saddle",
                                    "SubcategoryName": "Saddles",
                                    "CategoryName": "Components"
                                },
                                {
                                    "Name": "HL Road Seat/Saddle",
                                    "SubcategoryName": "Saddles",
                                    "CategoryName": "Components"
                                },
                                {
                                    "Name": "LL Touring Seat/Saddle",
                                    "SubcategoryName": "Saddles",
                                    "CategoryName": "Components"
                                },
                                {
                                    "Name": "ML Touring Seat/Saddle",
                                    "SubcategoryName": "Saddles",
                                    "CategoryName": "Components"
                                },
                                {
                                    "Name": "HL Touring Seat/Saddle",
                                    "SubcategoryName": "Saddles",
                                    "CategoryName": "Components"
                                },
                                {
                                    "Name": "LL Mountain Frame - Silver, 42",
                                    "SubcategoryName": "Mountain Frames",
                                    "CategoryName": "Components"
                                },
                                {
                                    "Name": "LL Mountain Frame - Silver, 44",
                                    "SubcategoryName": "Mountain Frames",
                                    "CategoryName": "Components"
                                },
                                {
                                    "Name": "LL Mountain Frame - Silver, 48",
                                    "SubcategoryName": "Mountain Frames",
                                    "CategoryName": "Components"
                                },
                                {
                                    "Name": "LL Mountain Frame - Silver, 52",
                                    "SubcategoryName": "Mountain Frames",
                                    "CategoryName": "Components"
                                },
                                {
                                    "Name": "Mountain Tire Tube",
                                    "SubcategoryName": "Tires and Tubes",
                                    "CategoryName": "Accessories"
                                },
                                {
                                    "Name": "Road Tire Tube",
                                    "SubcategoryName": "Tires and Tubes",
                                    "CategoryName": "Accessories"
                                },
                                {
                                    "Name": "Touring Tire Tube",
                                    "SubcategoryName": "Tires and Tubes",
                                    "CategoryName": "Accessories"
                                },
                                {
                                    "Name": "LL Mountain Frame - Black, 42",
                                    "SubcategoryName": "Mountain Frames",
                                    "CategoryName": "Components"
                                },
                                {
                                    "Name": "LL Mountain Frame - Black, 44",
                                    "SubcategoryName": "Mountain Frames",
                                    "CategoryName": "Components"
                                },
                                {
                                    "Name": "LL Mountain Frame - Black, 48",
                                    "SubcategoryName": "Mountain Frames",
                                    "CategoryName": "Components"
                                },
                                {
                                    "Name": "LL Mountain Frame - Black, 52",
                                    "SubcategoryName": "Mountain Frames",
                                    "CategoryName": "Components"
                                },
                                {
                                    "Name": "LL Mountain Tire",
                                    "SubcategoryName": "Tires and Tubes",
                                    "CategoryName": "Accessories"
                                },
                                {
                                    "Name": "ML Mountain Tire",
                                    "SubcategoryName": "Tires and Tubes",
                                    "CategoryName": "Accessories"
                                },
                                {
                                    "Name": "HL Mountain Tire",
                                    "SubcategoryName": "Tires and Tubes",
                                    "CategoryName": "Accessories"
                                },
                                {
                                    "Name": "LL Road Tire",
                                    "SubcategoryName": "Tires and Tubes",
                                    "CategoryName": "Accessories"
                                },
                                {
                                    "Name": "ML Road Tire",
                                    "SubcategoryName": "Tires and Tubes",
                                    "CategoryName": "Accessories"
                                },
                                {
                                    "Name": "HL Road Tire",
                                    "SubcategoryName": "Tires and Tubes",
                                    "CategoryName": "Accessories"
                                },
                                {
                                    "Name": "Touring Tire",
                                    "SubcategoryName": "Tires and Tubes",
                                    "CategoryName": "Accessories"
                                },
                                {
                                    "Name": "LL Mountain Pedal",
                                    "SubcategoryName": "Pedals",
                                    "CategoryName": "Components"
                                },
                                {
                                    "Name": "ML Mountain Pedal",
                                    "SubcategoryName": "Pedals",
                                    "CategoryName": "Components"
                                },
                                {
                                    "Name": "HL Mountain Pedal",
                                    "SubcategoryName": "Pedals",
                                    "CategoryName": "Components"
                                },
                                {
                                    "Name": "LL Road Pedal",
                                    "SubcategoryName": "Pedals",
                                    "CategoryName": "Components"
                                },
                                {
                                    "Name": "ML Road Pedal",
                                    "SubcategoryName": "Pedals",
                                    "CategoryName": "Components"
                                },
                                {
                                    "Name": "HL Road Pedal",
                                    "SubcategoryName": "Pedals",
                                    "CategoryName": "Components"
                                },
                                {
                                    "Name": "Touring Pedal",
                                    "SubcategoryName": "Pedals",
                                    "CategoryName": "Components"
                                },
                                {
                                    "Name": "ML Mountain Frame-W - Silver, 38",
                                    "SubcategoryName": "Mountain Frames",
                                    "CategoryName": "Components"
                                },
                                {
                                    "Name": "LL Mountain Frame - Black, 40",
                                    "SubcategoryName": "Mountain Frames",
                                    "CategoryName": "Components"
                                },
                                {
                                    "Name": "LL Mountain Frame - Silver, 40",
                                    "SubcategoryName": "Mountain Frames",
                                    "CategoryName": "Components"
                                },
                                {
                                    "Name": "Front Derailleur",
                                    "SubcategoryName": "Derailleurs",
                                    "CategoryName": "Components"
                                },
                                {
                                    "Name": "LL Touring Handlebars",
                                    "SubcategoryName": "Handlebars",
                                    "CategoryName": "Components"
                                },
                                {
                                    "Name": "HL Touring Handlebars",
                                    "SubcategoryName": "Handlebars",
                                    "CategoryName": "Components"
                                },
                                {
                                    "Name": "Front Brakes",
                                    "SubcategoryName": "Brakes",
                                    "CategoryName": "Components"
                                },
                                {
                                    "Name": "LL Crankset",
                                    "SubcategoryName": "Cranksets",
                                    "CategoryName": "Components"
                                },
                                {
                                    "Name": "ML Crankset",
                                    "SubcategoryName": "Cranksets",
                                    "CategoryName": "Components"
                                },
                                {
                                    "Name": "HL Crankset",
                                    "SubcategoryName": "Cranksets",
                                    "CategoryName": "Components"
                                },
                                {
                                    "Name": "Chain",
                                    "SubcategoryName": "Chains",
                                    "CategoryName": "Components"
                                },
                                {
                                    "Name": "Touring-2000 Blue, 60",
                                    "SubcategoryName": "Touring Bikes",
                                    "CategoryName": "Bikes"
                                },
                                {
                                    "Name": "Touring-1000 Yellow, 46",
                                    "SubcategoryName": "Touring Bikes",
                                    "CategoryName": "Bikes"
                                },
                                {
                                    "Name": "Touring-1000 Yellow, 50",
                                    "SubcategoryName": "Touring Bikes",
                                    "CategoryName": "Bikes"
                                },
                                {
                                    "Name": "Touring-1000 Yellow, 54",
                                    "SubcategoryName": "Touring Bikes",
                                    "CategoryName": "Bikes"
                                },
                                {
                                    "Name": "Touring-1000 Yellow, 60",
                                    "SubcategoryName": "Touring Bikes",
                                    "CategoryName": "Bikes"
                                },
                                {
                                    "Name": "Touring-3000 Blue, 54",
                                    "SubcategoryName": "Touring Bikes",
                                    "CategoryName": "Bikes"
                                },
                                {
                                    "Name": "Touring-3000 Blue, 58",
                                    "SubcategoryName": "Touring Bikes",
                                    "CategoryName": "Bikes"
                                },
                                {
                                    "Name": "Touring-3000 Blue, 62",
                                    "SubcategoryName": "Touring Bikes",
                                    "CategoryName": "Bikes"
                                },
                                {
                                    "Name": "Touring-3000 Yellow, 44",
                                    "SubcategoryName": "Touring Bikes",
                                    "CategoryName": "Bikes"
                                },
                                {
                                    "Name": "Touring-3000 Yellow, 50",
                                    "SubcategoryName": "Touring Bikes",
                                    "CategoryName": "Bikes"
                                },
                                {
                                    "Name": "Touring-3000 Yellow, 54",
                                    "SubcategoryName": "Touring Bikes",
                                    "CategoryName": "Bikes"
                                },
                                {
                                    "Name": "Touring-3000 Yellow, 58",
                                    "SubcategoryName": "Touring Bikes",
                                    "CategoryName": "Bikes"
                                },
                                {
                                    "Name": "Touring-3000 Yellow, 62",
                                    "SubcategoryName": "Touring Bikes",
                                    "CategoryName": "Bikes"
                                },
                                {
                                    "Name": "Touring-1000 Blue, 46",
                                    "SubcategoryName": "Touring Bikes",
                                    "CategoryName": "Bikes"
                                },
                                {
                                    "Name": "Touring-1000 Blue, 50",
                                    "SubcategoryName": "Touring Bikes",
                                    "CategoryName": "Bikes"
                                },
                                {
                                    "Name": "Touring-1000 Blue, 54",
                                    "SubcategoryName": "Touring Bikes",
                                    "CategoryName": "Bikes"
                                },
                                {
                                    "Name": "Touring-1000 Blue, 60",
                                    "SubcategoryName": "Touring Bikes",
                                    "CategoryName": "Bikes"
                                },
                                {
                                    "Name": "Touring-2000 Blue, 46",
                                    "SubcategoryName": "Touring Bikes",
                                    "CategoryName": "Bikes"
                                },
                                {
                                    "Name": "Touring-2000 Blue, 50",
                                    "SubcategoryName": "Touring Bikes",
                                    "CategoryName": "Bikes"
                                },
                                {
                                    "Name": "Touring-2000 Blue, 54",
                                    "SubcategoryName": "Touring Bikes",
                                    "CategoryName": "Bikes"
                                },
                                {
                                    "Name": "Road-350-W Yellow, 40",
                                    "SubcategoryName": "Road Bikes",
                                    "CategoryName": "Bikes"
                                },
                                {
                                    "Name": "Road-350-W Yellow, 42",
                                    "SubcategoryName": "Road Bikes",
                                    "CategoryName": "Bikes"
                                },
                                {
                                    "Name": "Road-350-W Yellow, 44",
                                    "SubcategoryName": "Road Bikes",
                                    "CategoryName": "Bikes"
                                },
                                {
                                    "Name": "Road-350-W Yellow, 48",
                                    "SubcategoryName": "Road Bikes",
                                    "CategoryName": "Bikes"
                                },
                                {
                                    "Name": "Road-750 Black, 58",
                                    "SubcategoryName": "Road Bikes",
                                    "CategoryName": "Bikes"
                                },
                                {
                                    "Name": "Touring-3000 Blue, 44",
                                    "SubcategoryName": "Touring Bikes",
                                    "CategoryName": "Bikes"
                                },
                                {
                                    "Name": "Touring-3000 Blue, 50",
                                    "SubcategoryName": "Touring Bikes",
                                    "CategoryName": "Bikes"
                                },
                                {
                                    "Name": "Mountain-400-W Silver, 38",
                                    "SubcategoryName": "Mountain Bikes",
                                    "CategoryName": "Bikes"
                                },
                                {
                                    "Name": "Mountain-400-W Silver, 40",
                                    "SubcategoryName": "Mountain Bikes",
                                    "CategoryName": "Bikes"
                                },
                                {
                                    "Name": "Mountain-400-W Silver, 42",
                                    "SubcategoryName": "Mountain Bikes",
                                    "CategoryName": "Bikes"
                                },
                                {
                                    "Name": "Mountain-400-W Silver, 46",
                                    "SubcategoryName": "Mountain Bikes",
                                    "CategoryName": "Bikes"
                                },
                                {
                                    "Name": "Mountain-500 Silver, 40",
                                    "SubcategoryName": "Mountain Bikes",
                                    "CategoryName": "Bikes"
                                },
                                {
                                    "Name": "Mountain-500 Silver, 42",
                                    "SubcategoryName": "Mountain Bikes",
                                    "CategoryName": "Bikes"
                                },
                                {
                                    "Name": "Mountain-500 Silver, 44",
                                    "SubcategoryName": "Mountain Bikes",
                                    "CategoryName": "Bikes"
                                },
                                {
                                    "Name": "Mountain-500 Silver, 48",
                                    "SubcategoryName": "Mountain Bikes",
                                    "CategoryName": "Bikes"
                                },
                                {
                                    "Name": "Mountain-500 Silver, 52",
                                    "SubcategoryName": "Mountain Bikes",
                                    "CategoryName": "Bikes"
                                },
                                {
                                    "Name": "Mountain-500 Black, 40",
                                    "SubcategoryName": "Mountain Bikes",
                                    "CategoryName": "Bikes"
                                },
                                {
                                    "Name": "Mountain-500 Black, 42",
                                    "SubcategoryName": "Mountain Bikes",
                                    "CategoryName": "Bikes"
                                },
                                {
                                    "Name": "Mountain-500 Black, 44",
                                    "SubcategoryName": "Mountain Bikes",
                                    "CategoryName": "Bikes"
                                },
                                {
                                    "Name": "Mountain-500 Black, 48",
                                    "SubcategoryName": "Mountain Bikes",
                                    "CategoryName": "Bikes"
                                },
                                {
                                    "Name": "Mountain-500 Black, 52",
                                    "SubcategoryName": "Mountain Bikes",
                                    "CategoryName": "Bikes"
                                },
                                {
                                    "Name": "LL Bottom Bracket",
                                    "SubcategoryName": "Bottom Brackets",
                                    "CategoryName": "Components"
                                },
                                {
                                    "Name": "ML Bottom Bracket",
                                    "SubcategoryName": "Bottom Brackets",
                                    "CategoryName": "Components"
                                },
                                {
                                    "Name": "HL Bottom Bracket",
                                    "SubcategoryName": "Bottom Brackets",
                                    "CategoryName": "Components"
                                },
                                {
                                    "Name": "Road-750 Black, 44",
                                    "SubcategoryName": "Road Bikes",
                                    "CategoryName": "Bikes"
                                },
                                {
                                    "Name": "Road-750 Black, 48",
                                    "SubcategoryName": "Road Bikes",
                                    "CategoryName": "Bikes"
                                },
                                {
                                    "Name": "Road-750 Black, 52",
                                    "SubcategoryName": "Road Bikes",
                                    "CategoryName": "Bikes"
                                }
                            ]
                        },
                        "text/html": [
                            "<table>",
                            "<tr><th>Name</th><th>SubcategoryName</th><th>CategoryName</th></tr>",
                            "<tr><td>HL Road Frame - Black, 58</td><td>Road Frames</td><td>Components</td></tr>",
                            "<tr><td>HL Road Frame - Red, 58</td><td>Road Frames</td><td>Components</td></tr>",
                            "<tr><td>Sport-100 Helmet, Red</td><td>Helmets</td><td>Accessories</td></tr>",
                            "<tr><td>Sport-100 Helmet, Black</td><td>Helmets</td><td>Accessories</td></tr>",
                            "<tr><td>Mountain Bike Socks, M</td><td>Socks</td><td>Clothing</td></tr>",
                            "<tr><td>Mountain Bike Socks, L</td><td>Socks</td><td>Clothing</td></tr>",
                            "<tr><td>Sport-100 Helmet, Blue</td><td>Helmets</td><td>Accessories</td></tr>",
                            "<tr><td>AWC Logo Cap</td><td>Caps</td><td>Clothing</td></tr>",
                            "<tr><td>Long-Sleeve Logo Jersey, S</td><td>Jerseys</td><td>Clothing</td></tr>",
                            "<tr><td>Long-Sleeve Logo Jersey, M</td><td>Jerseys</td><td>Clothing</td></tr>",
                            "<tr><td>Long-Sleeve Logo Jersey, L</td><td>Jerseys</td><td>Clothing</td></tr>",
                            "<tr><td>Long-Sleeve Logo Jersey, XL</td><td>Jerseys</td><td>Clothing</td></tr>",
                            "<tr><td>HL Road Frame - Red, 62</td><td>Road Frames</td><td>Components</td></tr>",
                            "<tr><td>HL Road Frame - Red, 44</td><td>Road Frames</td><td>Components</td></tr>",
                            "<tr><td>HL Road Frame - Red, 48</td><td>Road Frames</td><td>Components</td></tr>",
                            "<tr><td>HL Road Frame - Red, 52</td><td>Road Frames</td><td>Components</td></tr>",
                            "<tr><td>HL Road Frame - Red, 56</td><td>Road Frames</td><td>Components</td></tr>",
                            "<tr><td>LL Road Frame - Black, 58</td><td>Road Frames</td><td>Components</td></tr>",
                            "<tr><td>LL Road Frame - Black, 60</td><td>Road Frames</td><td>Components</td></tr>",
                            "<tr><td>LL Road Frame - Black, 62</td><td>Road Frames</td><td>Components</td></tr>",
                            "<tr><td>LL Road Frame - Red, 44</td><td>Road Frames</td><td>Components</td></tr>",
                            "<tr><td>LL Road Frame - Red, 48</td><td>Road Frames</td><td>Components</td></tr>",
                            "<tr><td>LL Road Frame - Red, 52</td><td>Road Frames</td><td>Components</td></tr>",
                            "<tr><td>LL Road Frame - Red, 58</td><td>Road Frames</td><td>Components</td></tr>",
                            "<tr><td>LL Road Frame - Red, 60</td><td>Road Frames</td><td>Components</td></tr>",
                            "<tr><td>LL Road Frame - Red, 62</td><td>Road Frames</td><td>Components</td></tr>",
                            "<tr><td>ML Road Frame - Red, 44</td><td>Road Frames</td><td>Components</td></tr>",
                            "<tr><td>ML Road Frame - Red, 48</td><td>Road Frames</td><td>Components</td></tr>",
                            "<tr><td>ML Road Frame - Red, 52</td><td>Road Frames</td><td>Components</td></tr>",
                            "<tr><td>ML Road Frame - Red, 58</td><td>Road Frames</td><td>Components</td></tr>",
                            "<tr><td>ML Road Frame - Red, 60</td><td>Road Frames</td><td>Components</td></tr>",
                            "<tr><td>LL Road Frame - Black, 44</td><td>Road Frames</td><td>Components</td></tr>",
                            "<tr><td>LL Road Frame - Black, 48</td><td>Road Frames</td><td>Components</td></tr>",
                            "<tr><td>LL Road Frame - Black, 52</td><td>Road Frames</td><td>Components</td></tr>",
                            "<tr><td>HL Mountain Frame - Silver, 42</td><td>Mountain Frames</td><td>Components</td></tr>",
                            "<tr><td>HL Mountain Frame - Silver, 44</td><td>Mountain Frames</td><td>Components</td></tr>",
                            "<tr><td>HL Mountain Frame - Silver, 48</td><td>Mountain Frames</td><td>Components</td></tr>",
                            "<tr><td>HL Mountain Frame - Silver, 46</td><td>Mountain Frames</td><td>Components</td></tr>",
                            "<tr><td>HL Mountain Frame - Black, 42</td><td>Mountain Frames</td><td>Components</td></tr>",
                            "<tr><td>HL Mountain Frame - Black, 44</td><td>Mountain Frames</td><td>Components</td></tr>",
                            "<tr><td>HL Mountain Frame - Black, 48</td><td>Mountain Frames</td><td>Components</td></tr>",
                            "<tr><td>HL Mountain Frame - Black, 46</td><td>Mountain Frames</td><td>Components</td></tr>",
                            "<tr><td>HL Mountain Frame - Black, 38</td><td>Mountain Frames</td><td>Components</td></tr>",
                            "<tr><td>HL Mountain Frame - Silver, 38</td><td>Mountain Frames</td><td>Components</td></tr>",
                            "<tr><td>Road-150 Red, 62</td><td>Road Bikes</td><td>Bikes</td></tr>",
                            "<tr><td>Road-150 Red, 44</td><td>Road Bikes</td><td>Bikes</td></tr>",
                            "<tr><td>Road-150 Red, 48</td><td>Road Bikes</td><td>Bikes</td></tr>",
                            "<tr><td>Road-150 Red, 52</td><td>Road Bikes</td><td>Bikes</td></tr>",
                            "<tr><td>Road-150 Red, 56</td><td>Road Bikes</td><td>Bikes</td></tr>",
                            "<tr><td>Road-450 Red, 58</td><td>Road Bikes</td><td>Bikes</td></tr>",
                            "<tr><td>Road-450 Red, 60</td><td>Road Bikes</td><td>Bikes</td></tr>",
                            "<tr><td>Road-450 Red, 44</td><td>Road Bikes</td><td>Bikes</td></tr>",
                            "<tr><td>Road-450 Red, 48</td><td>Road Bikes</td><td>Bikes</td></tr>",
                            "<tr><td>Road-450 Red, 52</td><td>Road Bikes</td><td>Bikes</td></tr>",
                            "<tr><td>Road-650 Red, 58</td><td>Road Bikes</td><td>Bikes</td></tr>",
                            "<tr><td>Road-650 Red, 60</td><td>Road Bikes</td><td>Bikes</td></tr>",
                            "<tr><td>Road-650 Red, 62</td><td>Road Bikes</td><td>Bikes</td></tr>",
                            "<tr><td>Road-650 Red, 44</td><td>Road Bikes</td><td>Bikes</td></tr>",
                            "<tr><td>Road-650 Red, 48</td><td>Road Bikes</td><td>Bikes</td></tr>",
                            "<tr><td>Road-650 Red, 52</td><td>Road Bikes</td><td>Bikes</td></tr>",
                            "<tr><td>Road-650 Black, 58</td><td>Road Bikes</td><td>Bikes</td></tr>",
                            "<tr><td>Road-650 Black, 60</td><td>Road Bikes</td><td>Bikes</td></tr>",
                            "<tr><td>Road-650 Black, 62</td><td>Road Bikes</td><td>Bikes</td></tr>",
                            "<tr><td>Road-650 Black, 44</td><td>Road Bikes</td><td>Bikes</td></tr>",
                            "<tr><td>Road-650 Black, 48</td><td>Road Bikes</td><td>Bikes</td></tr>",
                            "<tr><td>Road-650 Black, 52</td><td>Road Bikes</td><td>Bikes</td></tr>",
                            "<tr><td>Mountain-100 Silver, 38</td><td>Mountain Bikes</td><td>Bikes</td></tr>",
                            "<tr><td>Mountain-100 Silver, 42</td><td>Mountain Bikes</td><td>Bikes</td></tr>",
                            "<tr><td>Mountain-100 Silver, 44</td><td>Mountain Bikes</td><td>Bikes</td></tr>",
                            "<tr><td>Mountain-100 Silver, 48</td><td>Mountain Bikes</td><td>Bikes</td></tr>",
                            "<tr><td>Mountain-100 Black, 38</td><td>Mountain Bikes</td><td>Bikes</td></tr>",
                            "<tr><td>Mountain-100 Black, 42</td><td>Mountain Bikes</td><td>Bikes</td></tr>",
                            "<tr><td>Mountain-100 Black, 44</td><td>Mountain Bikes</td><td>Bikes</td></tr>",
                            "<tr><td>Mountain-100 Black, 48</td><td>Mountain Bikes</td><td>Bikes</td></tr>",
                            "<tr><td>Mountain-200 Silver, 38</td><td>Mountain Bikes</td><td>Bikes</td></tr>",
                            "<tr><td>Mountain-200 Silver, 42</td><td>Mountain Bikes</td><td>Bikes</td></tr>",
                            "<tr><td>Mountain-200 Silver, 46</td><td>Mountain Bikes</td><td>Bikes</td></tr>",
                            "<tr><td>Mountain-200 Black, 38</td><td>Mountain Bikes</td><td>Bikes</td></tr>",
                            "<tr><td>Mountain-200 Black, 42</td><td>Mountain Bikes</td><td>Bikes</td></tr>",
                            "<tr><td>Mountain-200 Black, 46</td><td>Mountain Bikes</td><td>Bikes</td></tr>",
                            "<tr><td>Mountain-300 Black, 38</td><td>Mountain Bikes</td><td>Bikes</td></tr>",
                            "<tr><td>Mountain-300 Black, 40</td><td>Mountain Bikes</td><td>Bikes</td></tr>",
                            "<tr><td>Mountain-300 Black, 44</td><td>Mountain Bikes</td><td>Bikes</td></tr>",
                            "<tr><td>Mountain-300 Black, 48</td><td>Mountain Bikes</td><td>Bikes</td></tr>",
                            "<tr><td>Road-250 Red, 44</td><td>Road Bikes</td><td>Bikes</td></tr>",
                            "<tr><td>Road-250 Red, 48</td><td>Road Bikes</td><td>Bikes</td></tr>",
                            "<tr><td>Road-250 Red, 52</td><td>Road Bikes</td><td>Bikes</td></tr>",
                            "<tr><td>Road-250 Red, 58</td><td>Road Bikes</td><td>Bikes</td></tr>",
                            "<tr><td>Road-250 Black, 44</td><td>Road Bikes</td><td>Bikes</td></tr>",
                            "<tr><td>Road-250 Black, 48</td><td>Road Bikes</td><td>Bikes</td></tr>",
                            "<tr><td>Road-250 Black, 52</td><td>Road Bikes</td><td>Bikes</td></tr>",
                            "<tr><td>Road-250 Black, 58</td><td>Road Bikes</td><td>Bikes</td></tr>",
                            "<tr><td>Road-550-W Yellow, 38</td><td>Road Bikes</td><td>Bikes</td></tr>",
                            "<tr><td>Road-550-W Yellow, 40</td><td>Road Bikes</td><td>Bikes</td></tr>",
                            "<tr><td>Road-550-W Yellow, 42</td><td>Road Bikes</td><td>Bikes</td></tr>",
                            "<tr><td>Road-550-W Yellow, 44</td><td>Road Bikes</td><td>Bikes</td></tr>",
                            "<tr><td>Road-550-W Yellow, 48</td><td>Road Bikes</td><td>Bikes</td></tr>",
                            "<tr><td>LL Fork</td><td>Forks</td><td>Components</td></tr>",
                            "<tr><td>ML Fork</td><td>Forks</td><td>Components</td></tr>",
                            "<tr><td>HL Fork</td><td>Forks</td><td>Components</td></tr>",
                            "<tr><td>LL Headset</td><td>Headsets</td><td>Components</td></tr>",
                            "<tr><td>ML Headset</td><td>Headsets</td><td>Components</td></tr>",
                            "<tr><td>HL Headset</td><td>Headsets</td><td>Components</td></tr>",
                            "<tr><td>LL Mountain Handlebars</td><td>Handlebars</td><td>Components</td></tr>",
                            "<tr><td>ML Mountain Handlebars</td><td>Handlebars</td><td>Components</td></tr>",
                            "<tr><td>HL Mountain Handlebars</td><td>Handlebars</td><td>Components</td></tr>",
                            "<tr><td>LL Road Handlebars</td><td>Handlebars</td><td>Components</td></tr>",
                            "<tr><td>ML Road Handlebars</td><td>Handlebars</td><td>Components</td></tr>",
                            "<tr><td>HL Road Handlebars</td><td>Handlebars</td><td>Components</td></tr>",
                            "<tr><td>ML Mountain Frame - Black, 38</td><td>Mountain Frames</td><td>Components</td></tr>",
                            "<tr><td>LL Mountain Front Wheel</td><td>Wheels</td><td>Components</td></tr>",
                            "<tr><td>ML Mountain Front Wheel</td><td>Wheels</td><td>Components</td></tr>",
                            "<tr><td>HL Mountain Front Wheel</td><td>Wheels</td><td>Components</td></tr>",
                            "<tr><td>LL Road Front Wheel</td><td>Wheels</td><td>Components</td></tr>",
                            "<tr><td>ML Road Front Wheel</td><td>Wheels</td><td>Components</td></tr>",
                            "<tr><td>HL Road Front Wheel</td><td>Wheels</td><td>Components</td></tr>",
                            "<tr><td>Touring Front Wheel</td><td>Wheels</td><td>Components</td></tr>",
                            "<tr><td>ML Road Frame-W - Yellow, 38</td><td>Road Frames</td><td>Components</td></tr>",
                            "<tr><td>LL Mountain Rear Wheel</td><td>Wheels</td><td>Components</td></tr>",
                            "<tr><td>ML Mountain Rear Wheel</td><td>Wheels</td><td>Components</td></tr>",
                            "<tr><td>HL Mountain Rear Wheel</td><td>Wheels</td><td>Components</td></tr>",
                            "<tr><td>LL Road Rear Wheel</td><td>Wheels</td><td>Components</td></tr>",
                            "<tr><td>ML Road Rear Wheel</td><td>Wheels</td><td>Components</td></tr>",
                            "<tr><td>HL Road Rear Wheel</td><td>Wheels</td><td>Components</td></tr>",
                            "<tr><td>Touring Rear Wheel</td><td>Wheels</td><td>Components</td></tr>",
                            "<tr><td>ML Mountain Frame - Black, 40</td><td>Mountain Frames</td><td>Components</td></tr>",
                            "<tr><td>ML Mountain Frame - Black, 44</td><td>Mountain Frames</td><td>Components</td></tr>",
                            "<tr><td>ML Mountain Frame - Black, 48</td><td>Mountain Frames</td><td>Components</td></tr>",
                            "<tr><td>ML Road Frame-W - Yellow, 40</td><td>Road Frames</td><td>Components</td></tr>",
                            "<tr><td>ML Road Frame-W - Yellow, 42</td><td>Road Frames</td><td>Components</td></tr>",
                            "<tr><td>ML Road Frame-W - Yellow, 44</td><td>Road Frames</td><td>Components</td></tr>",
                            "<tr><td>ML Road Frame-W - Yellow, 48</td><td>Road Frames</td><td>Components</td></tr>",
                            "<tr><td>HL Road Frame - Black, 62</td><td>Road Frames</td><td>Components</td></tr>",
                            "<tr><td>HL Road Frame - Black, 44</td><td>Road Frames</td><td>Components</td></tr>",
                            "<tr><td>HL Road Frame - Black, 48</td><td>Road Frames</td><td>Components</td></tr>",
                            "<tr><td>HL Road Frame - Black, 52</td><td>Road Frames</td><td>Components</td></tr>",
                            "<tr><td>Men&#39;s Sports Shorts, S</td><td>Shorts</td><td>Clothing</td></tr>",
                            "<tr><td>Touring-Panniers, Large</td><td>Panniers</td><td>Accessories</td></tr>",
                            "<tr><td>Cable Lock</td><td>Locks</td><td>Accessories</td></tr>",
                            "<tr><td>Minipump</td><td>Pumps</td><td>Accessories</td></tr>",
                            "<tr><td>Mountain Pump</td><td>Pumps</td><td>Accessories</td></tr>",
                            "<tr><td>Taillights - Battery-Powered</td><td>Lights</td><td>Accessories</td></tr>",
                            "<tr><td>Headlights - Dual-Beam</td><td>Lights</td><td>Accessories</td></tr>",
                            "<tr><td>Headlights - Weatherproof</td><td>Lights</td><td>Accessories</td></tr>",
                            "<tr><td>Men&#39;s Sports Shorts, M</td><td>Shorts</td><td>Clothing</td></tr>",
                            "<tr><td>Men&#39;s Sports Shorts, L</td><td>Shorts</td><td>Clothing</td></tr>",
                            "<tr><td>Men&#39;s Sports Shorts, XL</td><td>Shorts</td><td>Clothing</td></tr>",
                            "<tr><td>Women&#39;s Tights, S</td><td>Tights</td><td>Clothing</td></tr>",
                            "<tr><td>Women&#39;s Tights, M</td><td>Tights</td><td>Clothing</td></tr>",
                            "<tr><td>Women&#39;s Tights, L</td><td>Tights</td><td>Clothing</td></tr>",
                            "<tr><td>Men&#39;s Bib-Shorts, S</td><td>Bib-Shorts</td><td>Clothing</td></tr>",
                            "<tr><td>Men&#39;s Bib-Shorts, M</td><td>Bib-Shorts</td><td>Clothing</td></tr>",
                            "<tr><td>Men&#39;s Bib-Shorts, L</td><td>Bib-Shorts</td><td>Clothing</td></tr>",
                            "<tr><td>Half-Finger Gloves, S</td><td>Gloves</td><td>Clothing</td></tr>",
                            "<tr><td>Half-Finger Gloves, M</td><td>Gloves</td><td>Clothing</td></tr>",
                            "<tr><td>Half-Finger Gloves, L</td><td>Gloves</td><td>Clothing</td></tr>",
                            "<tr><td>Full-Finger Gloves, S</td><td>Gloves</td><td>Clothing</td></tr>",
                            "<tr><td>Full-Finger Gloves, M</td><td>Gloves</td><td>Clothing</td></tr>",
                            "<tr><td>Full-Finger Gloves, L</td><td>Gloves</td><td>Clothing</td></tr>",
                            "<tr><td>Classic Vest, S</td><td>Vests</td><td>Clothing</td></tr>",
                            "<tr><td>Classic Vest, M</td><td>Vests</td><td>Clothing</td></tr>",
                            "<tr><td>Classic Vest, L</td><td>Vests</td><td>Clothing</td></tr>",
                            "<tr><td>Women&#39;s Mountain Shorts, S</td><td>Shorts</td><td>Clothing</td></tr>",
                            "<tr><td>Women&#39;s Mountain Shorts, M</td><td>Shorts</td><td>Clothing</td></tr>",
                            "<tr><td>Women&#39;s Mountain Shorts, L</td><td>Shorts</td><td>Clothing</td></tr>",
                            "<tr><td>Water Bottle - 30 oz.</td><td>Bottles and Cages</td><td>Accessories</td></tr>",
                            "<tr><td>Mountain Bottle Cage</td><td>Bottles and Cages</td><td>Accessories</td></tr>",
                            "<tr><td>Road Bottle Cage</td><td>Bottles and Cages</td><td>Accessories</td></tr>",
                            "<tr><td>Patch Kit/8 Patches</td><td>Tires and Tubes</td><td>Accessories</td></tr>",
                            "<tr><td>Racing Socks, M</td><td>Socks</td><td>Clothing</td></tr>",
                            "<tr><td>Racing Socks, L</td><td>Socks</td><td>Clothing</td></tr>",
                            "<tr><td>Hitch Rack - 4-Bike</td><td>Bike Racks</td><td>Accessories</td></tr>",
                            "<tr><td>Bike Wash - Dissolver</td><td>Cleaners</td><td>Accessories</td></tr>",
                            "<tr><td>Fender Set - Mountain</td><td>Fenders</td><td>Accessories</td></tr>",
                            "<tr><td>All-Purpose Bike Stand</td><td>Bike Stands</td><td>Accessories</td></tr>",
                            "<tr><td>Hydration Pack - 70 oz.</td><td>Hydration Packs</td><td>Accessories</td></tr>",
                            "<tr><td>Short-Sleeve Classic Jersey, S</td><td>Jerseys</td><td>Clothing</td></tr>",
                            "<tr><td>Short-Sleeve Classic Jersey, M</td><td>Jerseys</td><td>Clothing</td></tr>",
                            "<tr><td>Short-Sleeve Classic Jersey, L</td><td>Jerseys</td><td>Clothing</td></tr>",
                            "<tr><td>Short-Sleeve Classic Jersey, XL</td><td>Jerseys</td><td>Clothing</td></tr>",
                            "<tr><td>HL Touring Frame - Yellow, 60</td><td>Touring Frames</td><td>Components</td></tr>",
                            "<tr><td>LL Touring Frame - Yellow, 62</td><td>Touring Frames</td><td>Components</td></tr>",
                            "<tr><td>HL Touring Frame - Yellow, 46</td><td>Touring Frames</td><td>Components</td></tr>",
                            "<tr><td>HL Touring Frame - Yellow, 50</td><td>Touring Frames</td><td>Components</td></tr>",
                            "<tr><td>HL Touring Frame - Yellow, 54</td><td>Touring Frames</td><td>Components</td></tr>",
                            "<tr><td>HL Touring Frame - Blue, 46</td><td>Touring Frames</td><td>Components</td></tr>",
                            "<tr><td>HL Touring Frame - Blue, 50</td><td>Touring Frames</td><td>Components</td></tr>",
                            "<tr><td>HL Touring Frame - Blue, 54</td><td>Touring Frames</td><td>Components</td></tr>",
                            "<tr><td>HL Touring Frame - Blue, 60</td><td>Touring Frames</td><td>Components</td></tr>",
                            "<tr><td>Rear Derailleur</td><td>Derailleurs</td><td>Components</td></tr>",
                            "<tr><td>LL Touring Frame - Blue, 50</td><td>Touring Frames</td><td>Components</td></tr>",
                            "<tr><td>LL Touring Frame - Blue, 54</td><td>Touring Frames</td><td>Components</td></tr>",
                            "<tr><td>LL Touring Frame - Blue, 58</td><td>Touring Frames</td><td>Components</td></tr>",
                            "<tr><td>LL Touring Frame - Blue, 62</td><td>Touring Frames</td><td>Components</td></tr>",
                            "<tr><td>LL Touring Frame - Yellow, 44</td><td>Touring Frames</td><td>Components</td></tr>",
                            "<tr><td>LL Touring Frame - Yellow, 50</td><td>Touring Frames</td><td>Components</td></tr>",
                            "<tr><td>LL Touring Frame - Yellow, 54</td><td>Touring Frames</td><td>Components</td></tr>",
                            "<tr><td>LL Touring Frame - Yellow, 58</td><td>Touring Frames</td><td>Components</td></tr>",
                            "<tr><td>LL Touring Frame - Blue, 44</td><td>Touring Frames</td><td>Components</td></tr>",
                            "<tr><td>ML Mountain Frame-W - Silver, 40</td><td>Mountain Frames</td><td>Components</td></tr>",
                            "<tr><td>ML Mountain Frame-W - Silver, 42</td><td>Mountain Frames</td><td>Components</td></tr>",
                            "<tr><td>ML Mountain Frame-W - Silver, 46</td><td>Mountain Frames</td><td>Components</td></tr>",
                            "<tr><td>Rear Brakes</td><td>Brakes</td><td>Components</td></tr>",
                            "<tr><td>LL Mountain Seat/Saddle</td><td>Saddles</td><td>Components</td></tr>",
                            "<tr><td>ML Mountain Seat/Saddle</td><td>Saddles</td><td>Components</td></tr>",
                            "<tr><td>HL Mountain Seat/Saddle</td><td>Saddles</td><td>Components</td></tr>",
                            "<tr><td>LL Road Seat/Saddle</td><td>Saddles</td><td>Components</td></tr>",
                            "<tr><td>ML Road Seat/Saddle</td><td>Saddles</td><td>Components</td></tr>",
                            "<tr><td>HL Road Seat/Saddle</td><td>Saddles</td><td>Components</td></tr>",
                            "<tr><td>LL Touring Seat/Saddle</td><td>Saddles</td><td>Components</td></tr>",
                            "<tr><td>ML Touring Seat/Saddle</td><td>Saddles</td><td>Components</td></tr>",
                            "<tr><td>HL Touring Seat/Saddle</td><td>Saddles</td><td>Components</td></tr>",
                            "<tr><td>LL Mountain Frame - Silver, 42</td><td>Mountain Frames</td><td>Components</td></tr>",
                            "<tr><td>LL Mountain Frame - Silver, 44</td><td>Mountain Frames</td><td>Components</td></tr>",
                            "<tr><td>LL Mountain Frame - Silver, 48</td><td>Mountain Frames</td><td>Components</td></tr>",
                            "<tr><td>LL Mountain Frame - Silver, 52</td><td>Mountain Frames</td><td>Components</td></tr>",
                            "<tr><td>Mountain Tire Tube</td><td>Tires and Tubes</td><td>Accessories</td></tr>",
                            "<tr><td>Road Tire Tube</td><td>Tires and Tubes</td><td>Accessories</td></tr>",
                            "<tr><td>Touring Tire Tube</td><td>Tires and Tubes</td><td>Accessories</td></tr>",
                            "<tr><td>LL Mountain Frame - Black, 42</td><td>Mountain Frames</td><td>Components</td></tr>",
                            "<tr><td>LL Mountain Frame - Black, 44</td><td>Mountain Frames</td><td>Components</td></tr>",
                            "<tr><td>LL Mountain Frame - Black, 48</td><td>Mountain Frames</td><td>Components</td></tr>",
                            "<tr><td>LL Mountain Frame - Black, 52</td><td>Mountain Frames</td><td>Components</td></tr>",
                            "<tr><td>LL Mountain Tire</td><td>Tires and Tubes</td><td>Accessories</td></tr>",
                            "<tr><td>ML Mountain Tire</td><td>Tires and Tubes</td><td>Accessories</td></tr>",
                            "<tr><td>HL Mountain Tire</td><td>Tires and Tubes</td><td>Accessories</td></tr>",
                            "<tr><td>LL Road Tire</td><td>Tires and Tubes</td><td>Accessories</td></tr>",
                            "<tr><td>ML Road Tire</td><td>Tires and Tubes</td><td>Accessories</td></tr>",
                            "<tr><td>HL Road Tire</td><td>Tires and Tubes</td><td>Accessories</td></tr>",
                            "<tr><td>Touring Tire</td><td>Tires and Tubes</td><td>Accessories</td></tr>",
                            "<tr><td>LL Mountain Pedal</td><td>Pedals</td><td>Components</td></tr>",
                            "<tr><td>ML Mountain Pedal</td><td>Pedals</td><td>Components</td></tr>",
                            "<tr><td>HL Mountain Pedal</td><td>Pedals</td><td>Components</td></tr>",
                            "<tr><td>LL Road Pedal</td><td>Pedals</td><td>Components</td></tr>",
                            "<tr><td>ML Road Pedal</td><td>Pedals</td><td>Components</td></tr>",
                            "<tr><td>HL Road Pedal</td><td>Pedals</td><td>Components</td></tr>",
                            "<tr><td>Touring Pedal</td><td>Pedals</td><td>Components</td></tr>",
                            "<tr><td>ML Mountain Frame-W - Silver, 38</td><td>Mountain Frames</td><td>Components</td></tr>",
                            "<tr><td>LL Mountain Frame - Black, 40</td><td>Mountain Frames</td><td>Components</td></tr>",
                            "<tr><td>LL Mountain Frame - Silver, 40</td><td>Mountain Frames</td><td>Components</td></tr>",
                            "<tr><td>Front Derailleur</td><td>Derailleurs</td><td>Components</td></tr>",
                            "<tr><td>LL Touring Handlebars</td><td>Handlebars</td><td>Components</td></tr>",
                            "<tr><td>HL Touring Handlebars</td><td>Handlebars</td><td>Components</td></tr>",
                            "<tr><td>Front Brakes</td><td>Brakes</td><td>Components</td></tr>",
                            "<tr><td>LL Crankset</td><td>Cranksets</td><td>Components</td></tr>",
                            "<tr><td>ML Crankset</td><td>Cranksets</td><td>Components</td></tr>",
                            "<tr><td>HL Crankset</td><td>Cranksets</td><td>Components</td></tr>",
                            "<tr><td>Chain</td><td>Chains</td><td>Components</td></tr>",
                            "<tr><td>Touring-2000 Blue, 60</td><td>Touring Bikes</td><td>Bikes</td></tr>",
                            "<tr><td>Touring-1000 Yellow, 46</td><td>Touring Bikes</td><td>Bikes</td></tr>",
                            "<tr><td>Touring-1000 Yellow, 50</td><td>Touring Bikes</td><td>Bikes</td></tr>",
                            "<tr><td>Touring-1000 Yellow, 54</td><td>Touring Bikes</td><td>Bikes</td></tr>",
                            "<tr><td>Touring-1000 Yellow, 60</td><td>Touring Bikes</td><td>Bikes</td></tr>",
                            "<tr><td>Touring-3000 Blue, 54</td><td>Touring Bikes</td><td>Bikes</td></tr>",
                            "<tr><td>Touring-3000 Blue, 58</td><td>Touring Bikes</td><td>Bikes</td></tr>",
                            "<tr><td>Touring-3000 Blue, 62</td><td>Touring Bikes</td><td>Bikes</td></tr>",
                            "<tr><td>Touring-3000 Yellow, 44</td><td>Touring Bikes</td><td>Bikes</td></tr>",
                            "<tr><td>Touring-3000 Yellow, 50</td><td>Touring Bikes</td><td>Bikes</td></tr>",
                            "<tr><td>Touring-3000 Yellow, 54</td><td>Touring Bikes</td><td>Bikes</td></tr>",
                            "<tr><td>Touring-3000 Yellow, 58</td><td>Touring Bikes</td><td>Bikes</td></tr>",
                            "<tr><td>Touring-3000 Yellow, 62</td><td>Touring Bikes</td><td>Bikes</td></tr>",
                            "<tr><td>Touring-1000 Blue, 46</td><td>Touring Bikes</td><td>Bikes</td></tr>",
                            "<tr><td>Touring-1000 Blue, 50</td><td>Touring Bikes</td><td>Bikes</td></tr>",
                            "<tr><td>Touring-1000 Blue, 54</td><td>Touring Bikes</td><td>Bikes</td></tr>",
                            "<tr><td>Touring-1000 Blue, 60</td><td>Touring Bikes</td><td>Bikes</td></tr>",
                            "<tr><td>Touring-2000 Blue, 46</td><td>Touring Bikes</td><td>Bikes</td></tr>",
                            "<tr><td>Touring-2000 Blue, 50</td><td>Touring Bikes</td><td>Bikes</td></tr>",
                            "<tr><td>Touring-2000 Blue, 54</td><td>Touring Bikes</td><td>Bikes</td></tr>",
                            "<tr><td>Road-350-W Yellow, 40</td><td>Road Bikes</td><td>Bikes</td></tr>",
                            "<tr><td>Road-350-W Yellow, 42</td><td>Road Bikes</td><td>Bikes</td></tr>",
                            "<tr><td>Road-350-W Yellow, 44</td><td>Road Bikes</td><td>Bikes</td></tr>",
                            "<tr><td>Road-350-W Yellow, 48</td><td>Road Bikes</td><td>Bikes</td></tr>",
                            "<tr><td>Road-750 Black, 58</td><td>Road Bikes</td><td>Bikes</td></tr>",
                            "<tr><td>Touring-3000 Blue, 44</td><td>Touring Bikes</td><td>Bikes</td></tr>",
                            "<tr><td>Touring-3000 Blue, 50</td><td>Touring Bikes</td><td>Bikes</td></tr>",
                            "<tr><td>Mountain-400-W Silver, 38</td><td>Mountain Bikes</td><td>Bikes</td></tr>",
                            "<tr><td>Mountain-400-W Silver, 40</td><td>Mountain Bikes</td><td>Bikes</td></tr>",
                            "<tr><td>Mountain-400-W Silver, 42</td><td>Mountain Bikes</td><td>Bikes</td></tr>",
                            "<tr><td>Mountain-400-W Silver, 46</td><td>Mountain Bikes</td><td>Bikes</td></tr>",
                            "<tr><td>Mountain-500 Silver, 40</td><td>Mountain Bikes</td><td>Bikes</td></tr>",
                            "<tr><td>Mountain-500 Silver, 42</td><td>Mountain Bikes</td><td>Bikes</td></tr>",
                            "<tr><td>Mountain-500 Silver, 44</td><td>Mountain Bikes</td><td>Bikes</td></tr>",
                            "<tr><td>Mountain-500 Silver, 48</td><td>Mountain Bikes</td><td>Bikes</td></tr>",
                            "<tr><td>Mountain-500 Silver, 52</td><td>Mountain Bikes</td><td>Bikes</td></tr>",
                            "<tr><td>Mountain-500 Black, 40</td><td>Mountain Bikes</td><td>Bikes</td></tr>",
                            "<tr><td>Mountain-500 Black, 42</td><td>Mountain Bikes</td><td>Bikes</td></tr>",
                            "<tr><td>Mountain-500 Black, 44</td><td>Mountain Bikes</td><td>Bikes</td></tr>",
                            "<tr><td>Mountain-500 Black, 48</td><td>Mountain Bikes</td><td>Bikes</td></tr>",
                            "<tr><td>Mountain-500 Black, 52</td><td>Mountain Bikes</td><td>Bikes</td></tr>",
                            "<tr><td>LL Bottom Bracket</td><td>Bottom Brackets</td><td>Components</td></tr>",
                            "<tr><td>ML Bottom Bracket</td><td>Bottom Brackets</td><td>Components</td></tr>",
                            "<tr><td>HL Bottom Bracket</td><td>Bottom Brackets</td><td>Components</td></tr>",
                            "<tr><td>Road-750 Black, 44</td><td>Road Bikes</td><td>Bikes</td></tr>",
                            "<tr><td>Road-750 Black, 48</td><td>Road Bikes</td><td>Bikes</td></tr>",
                            "<tr><td>Road-750 Black, 52</td><td>Road Bikes</td><td>Bikes</td></tr>",
                            "</table>"
                        ]
                    }
                }
            ],
            "execution_count": 13
        },
        {
            "cell_type": "code",
            "source": [
                "-- E\n",
                "SELECT pc.Name AS CategoryName, ps.Name AS SubcategoryName, AVG(p.ListPrice) AS AverageListPrice, COUNT(*) AS ProductCount\n",
                "FROM Production.Product AS p\n",
                "JOIN Production.ProductSubcategory AS ps ON p.ProductSubcategoryID = ps.ProductSubcategoryID\n",
                "JOIN Production.ProductCategory AS pc ON ps.ProductCategoryID = pc.ProductCategoryID\n",
                "GROUP BY pc.Name, ps.Name;"
            ],
            "metadata": {
                "language": "sql",
                "azdata_cell_guid": "3bb94420-0d74-4e83-b8f8-422b0fa20bb1"
            },
            "outputs": [
                {
                    "output_type": "display_data",
                    "data": {
                        "text/html": "(37 rows affected)"
                    },
                    "metadata": {}
                },
                {
                    "output_type": "display_data",
                    "data": {
                        "text/html": "Total execution time: 00:00:00.007"
                    },
                    "metadata": {}
                },
                {
                    "output_type": "execute_result",
                    "metadata": {},
                    "execution_count": 16,
                    "data": {
                        "application/vnd.dataresource+json": {
                            "schema": {
                                "fields": [
                                    {
                                        "name": "CategoryName"
                                    },
                                    {
                                        "name": "SubcategoryName"
                                    },
                                    {
                                        "name": "AverageListPrice"
                                    },
                                    {
                                        "name": "ProductCount"
                                    }
                                ]
                            },
                            "data": [
                                {
                                    "CategoryName": "Clothing",
                                    "SubcategoryName": "Bib-Shorts",
                                    "AverageListPrice": "89.99",
                                    "ProductCount": "3"
                                },
                                {
                                    "CategoryName": "Accessories",
                                    "SubcategoryName": "Bike Racks",
                                    "AverageListPrice": "120.00",
                                    "ProductCount": "1"
                                },
                                {
                                    "CategoryName": "Accessories",
                                    "SubcategoryName": "Bike Stands",
                                    "AverageListPrice": "159.00",
                                    "ProductCount": "1"
                                },
                                {
                                    "CategoryName": "Accessories",
                                    "SubcategoryName": "Bottles and Cages",
                                    "AverageListPrice": "7.99",
                                    "ProductCount": "3"
                                },
                                {
                                    "CategoryName": "Components",
                                    "SubcategoryName": "Bottom Brackets",
                                    "AverageListPrice": "92.24",
                                    "ProductCount": "3"
                                },
                                {
                                    "CategoryName": "Components",
                                    "SubcategoryName": "Brakes",
                                    "AverageListPrice": "106.50",
                                    "ProductCount": "2"
                                },
                                {
                                    "CategoryName": "Clothing",
                                    "SubcategoryName": "Caps",
                                    "AverageListPrice": "8.99",
                                    "ProductCount": "1"
                                },
                                {
                                    "CategoryName": "Components",
                                    "SubcategoryName": "Chains",
                                    "AverageListPrice": "20.24",
                                    "ProductCount": "1"
                                },
                                {
                                    "CategoryName": "Accessories",
                                    "SubcategoryName": "Cleaners",
                                    "AverageListPrice": "7.95",
                                    "ProductCount": "1"
                                },
                                {
                                    "CategoryName": "Components",
                                    "SubcategoryName": "Cranksets",
                                    "AverageListPrice": "278.99",
                                    "ProductCount": "3"
                                },
                                {
                                    "CategoryName": "Components",
                                    "SubcategoryName": "Derailleurs",
                                    "AverageListPrice": "106.475",
                                    "ProductCount": "2"
                                },
                                {
                                    "CategoryName": "Accessories",
                                    "SubcategoryName": "Fenders",
                                    "AverageListPrice": "21.98",
                                    "ProductCount": "1"
                                },
                                {
                                    "CategoryName": "Components",
                                    "SubcategoryName": "Forks",
                                    "AverageListPrice": "184.40",
                                    "ProductCount": "3"
                                },
                                {
                                    "CategoryName": "Clothing",
                                    "SubcategoryName": "Gloves",
                                    "AverageListPrice": "31.24",
                                    "ProductCount": "6"
                                },
                                {
                                    "CategoryName": "Components",
                                    "SubcategoryName": "Handlebars",
                                    "AverageListPrice": "73.89",
                                    "ProductCount": "8"
                                },
                                {
                                    "CategoryName": "Components",
                                    "SubcategoryName": "Headsets",
                                    "AverageListPrice": "87.0733",
                                    "ProductCount": "3"
                                },
                                {
                                    "CategoryName": "Accessories",
                                    "SubcategoryName": "Helmets",
                                    "AverageListPrice": "34.99",
                                    "ProductCount": "3"
                                },
                                {
                                    "CategoryName": "Accessories",
                                    "SubcategoryName": "Hydration Packs",
                                    "AverageListPrice": "54.99",
                                    "ProductCount": "1"
                                },
                                {
                                    "CategoryName": "Clothing",
                                    "SubcategoryName": "Jerseys",
                                    "AverageListPrice": "51.99",
                                    "ProductCount": "8"
                                },
                                {
                                    "CategoryName": "Accessories",
                                    "SubcategoryName": "Lights",
                                    "AverageListPrice": "31.3233",
                                    "ProductCount": "3"
                                },
                                {
                                    "CategoryName": "Accessories",
                                    "SubcategoryName": "Locks",
                                    "AverageListPrice": "25.00",
                                    "ProductCount": "1"
                                },
                                {
                                    "CategoryName": "Bikes",
                                    "SubcategoryName": "Mountain Bikes",
                                    "AverageListPrice": "1683.365",
                                    "ProductCount": "32"
                                },
                                {
                                    "CategoryName": "Components",
                                    "SubcategoryName": "Mountain Frames",
                                    "AverageListPrice": "678.2535",
                                    "ProductCount": "28"
                                },
                                {
                                    "CategoryName": "Accessories",
                                    "SubcategoryName": "Panniers",
                                    "AverageListPrice": "125.00",
                                    "ProductCount": "1"
                                },
                                {
                                    "CategoryName": "Components",
                                    "SubcategoryName": "Pedals",
                                    "AverageListPrice": "64.0185",
                                    "ProductCount": "7"
                                },
                                {
                                    "CategoryName": "Accessories",
                                    "SubcategoryName": "Pumps",
                                    "AverageListPrice": "22.49",
                                    "ProductCount": "2"
                                },
                                {
                                    "CategoryName": "Bikes",
                                    "SubcategoryName": "Road Bikes",
                                    "AverageListPrice": "1597.45",
                                    "ProductCount": "43"
                                },
                                {
                                    "CategoryName": "Components",
                                    "SubcategoryName": "Road Frames",
                                    "AverageListPrice": "780.0436",
                                    "ProductCount": "33"
                                },
                                {
                                    "CategoryName": "Components",
                                    "SubcategoryName": "Saddles",
                                    "AverageListPrice": "39.6333",
                                    "ProductCount": "9"
                                },
                                {
                                    "CategoryName": "Clothing",
                                    "SubcategoryName": "Shorts",
                                    "AverageListPrice": "64.2757",
                                    "ProductCount": "7"
                                },
                                {
                                    "CategoryName": "Clothing",
                                    "SubcategoryName": "Socks",
                                    "AverageListPrice": "9.245",
                                    "ProductCount": "4"
                                },
                                {
                                    "CategoryName": "Clothing",
                                    "SubcategoryName": "Tights",
                                    "AverageListPrice": "74.99",
                                    "ProductCount": "3"
                                },
                                {
                                    "CategoryName": "Accessories",
                                    "SubcategoryName": "Tires and Tubes",
                                    "AverageListPrice": "19.4827",
                                    "ProductCount": "11"
                                },
                                {
                                    "CategoryName": "Bikes",
                                    "SubcategoryName": "Touring Bikes",
                                    "AverageListPrice": "1425.2481",
                                    "ProductCount": "22"
                                },
                                {
                                    "CategoryName": "Components",
                                    "SubcategoryName": "Touring Frames",
                                    "AverageListPrice": "631.4155",
                                    "ProductCount": "18"
                                },
                                {
                                    "CategoryName": "Clothing",
                                    "SubcategoryName": "Vests",
                                    "AverageListPrice": "63.50",
                                    "ProductCount": "3"
                                },
                                {
                                    "CategoryName": "Components",
                                    "SubcategoryName": "Wheels",
                                    "AverageListPrice": "220.9292",
                                    "ProductCount": "14"
                                }
                            ]
                        },
                        "text/html": [
                            "<table>",
                            "<tr><th>CategoryName</th><th>SubcategoryName</th><th>AverageListPrice</th><th>ProductCount</th></tr>",
                            "<tr><td>Clothing</td><td>Bib-Shorts</td><td>89.99</td><td>3</td></tr>",
                            "<tr><td>Accessories</td><td>Bike Racks</td><td>120.00</td><td>1</td></tr>",
                            "<tr><td>Accessories</td><td>Bike Stands</td><td>159.00</td><td>1</td></tr>",
                            "<tr><td>Accessories</td><td>Bottles and Cages</td><td>7.99</td><td>3</td></tr>",
                            "<tr><td>Components</td><td>Bottom Brackets</td><td>92.24</td><td>3</td></tr>",
                            "<tr><td>Components</td><td>Brakes</td><td>106.50</td><td>2</td></tr>",
                            "<tr><td>Clothing</td><td>Caps</td><td>8.99</td><td>1</td></tr>",
                            "<tr><td>Components</td><td>Chains</td><td>20.24</td><td>1</td></tr>",
                            "<tr><td>Accessories</td><td>Cleaners</td><td>7.95</td><td>1</td></tr>",
                            "<tr><td>Components</td><td>Cranksets</td><td>278.99</td><td>3</td></tr>",
                            "<tr><td>Components</td><td>Derailleurs</td><td>106.475</td><td>2</td></tr>",
                            "<tr><td>Accessories</td><td>Fenders</td><td>21.98</td><td>1</td></tr>",
                            "<tr><td>Components</td><td>Forks</td><td>184.40</td><td>3</td></tr>",
                            "<tr><td>Clothing</td><td>Gloves</td><td>31.24</td><td>6</td></tr>",
                            "<tr><td>Components</td><td>Handlebars</td><td>73.89</td><td>8</td></tr>",
                            "<tr><td>Components</td><td>Headsets</td><td>87.0733</td><td>3</td></tr>",
                            "<tr><td>Accessories</td><td>Helmets</td><td>34.99</td><td>3</td></tr>",
                            "<tr><td>Accessories</td><td>Hydration Packs</td><td>54.99</td><td>1</td></tr>",
                            "<tr><td>Clothing</td><td>Jerseys</td><td>51.99</td><td>8</td></tr>",
                            "<tr><td>Accessories</td><td>Lights</td><td>31.3233</td><td>3</td></tr>",
                            "<tr><td>Accessories</td><td>Locks</td><td>25.00</td><td>1</td></tr>",
                            "<tr><td>Bikes</td><td>Mountain Bikes</td><td>1683.365</td><td>32</td></tr>",
                            "<tr><td>Components</td><td>Mountain Frames</td><td>678.2535</td><td>28</td></tr>",
                            "<tr><td>Accessories</td><td>Panniers</td><td>125.00</td><td>1</td></tr>",
                            "<tr><td>Components</td><td>Pedals</td><td>64.0185</td><td>7</td></tr>",
                            "<tr><td>Accessories</td><td>Pumps</td><td>22.49</td><td>2</td></tr>",
                            "<tr><td>Bikes</td><td>Road Bikes</td><td>1597.45</td><td>43</td></tr>",
                            "<tr><td>Components</td><td>Road Frames</td><td>780.0436</td><td>33</td></tr>",
                            "<tr><td>Components</td><td>Saddles</td><td>39.6333</td><td>9</td></tr>",
                            "<tr><td>Clothing</td><td>Shorts</td><td>64.2757</td><td>7</td></tr>",
                            "<tr><td>Clothing</td><td>Socks</td><td>9.245</td><td>4</td></tr>",
                            "<tr><td>Clothing</td><td>Tights</td><td>74.99</td><td>3</td></tr>",
                            "<tr><td>Accessories</td><td>Tires and Tubes</td><td>19.4827</td><td>11</td></tr>",
                            "<tr><td>Bikes</td><td>Touring Bikes</td><td>1425.2481</td><td>22</td></tr>",
                            "<tr><td>Components</td><td>Touring Frames</td><td>631.4155</td><td>18</td></tr>",
                            "<tr><td>Clothing</td><td>Vests</td><td>63.50</td><td>3</td></tr>",
                            "<tr><td>Components</td><td>Wheels</td><td>220.9292</td><td>14</td></tr>",
                            "</table>"
                        ]
                    }
                }
            ],
            "execution_count": 16
        },
        {
            "cell_type": "code",
            "source": [
                "-- F\n",
                "SELECT MIN(ListPrice) AS MinListPrice, \n",
                "       pc.Name AS CategoryName, CONVERT(DATE, p.SellStartDate) AS SellStartDate\n",
                "FROM Production.Product p\n",
                "JOIN Production.ProductSubcategory ps ON p.ProductSubcategoryID = ps.ProductSubcategoryID\n",
                "JOIN Production.ProductCategory pc ON ps.ProductCategoryID = pc.ProductCategoryID\n",
                "GROUP BY pc.Name, CONVERT(DATE, p.SellStartDate);"
            ],
            "metadata": {
                "language": "sql",
                "azdata_cell_guid": "7ed437f9-0d58-4b89-9883-5dc592e9b5d6"
            },
            "outputs": [
                {
                    "output_type": "display_data",
                    "data": {
                        "text/html": "(13 rows affected)"
                    },
                    "metadata": {}
                },
                {
                    "output_type": "display_data",
                    "data": {
                        "text/html": "Total execution time: 00:00:00.002"
                    },
                    "metadata": {}
                },
                {
                    "output_type": "execute_result",
                    "metadata": {},
                    "execution_count": 18,
                    "data": {
                        "application/vnd.dataresource+json": {
                            "schema": {
                                "fields": [
                                    {
                                        "name": "MinListPrice"
                                    },
                                    {
                                        "name": "CategoryName"
                                    },
                                    {
                                        "name": "SellStartDate"
                                    }
                                ]
                            },
                            "data": [
                                {
                                    "MinListPrice": "1431.50",
                                    "CategoryName": "Components",
                                    "SellStartDate": "2008-04-30"
                                },
                                {
                                    "MinListPrice": "34.99",
                                    "CategoryName": "Accessories",
                                    "SellStartDate": "2011-05-31"
                                },
                                {
                                    "MinListPrice": "782.99",
                                    "CategoryName": "Bikes",
                                    "SellStartDate": "2011-05-31"
                                },
                                {
                                    "MinListPrice": "8.99",
                                    "CategoryName": "Clothing",
                                    "SellStartDate": "2011-05-31"
                                },
                                {
                                    "MinListPrice": "337.22",
                                    "CategoryName": "Components",
                                    "SellStartDate": "2011-05-31"
                                },
                                {
                                    "MinListPrice": "13.99",
                                    "CategoryName": "Accessories",
                                    "SellStartDate": "2012-05-30"
                                },
                                {
                                    "MinListPrice": "1079.99",
                                    "CategoryName": "Bikes",
                                    "SellStartDate": "2012-05-30"
                                },
                                {
                                    "MinListPrice": "24.49",
                                    "CategoryName": "Clothing",
                                    "SellStartDate": "2012-05-30"
                                },
                                {
                                    "MinListPrice": "34.20",
                                    "CategoryName": "Components",
                                    "SellStartDate": "2012-05-30"
                                },
                                {
                                    "MinListPrice": "2.29",
                                    "CategoryName": "Accessories",
                                    "SellStartDate": "2013-05-30"
                                },
                                {
                                    "MinListPrice": "539.99",
                                    "CategoryName": "Bikes",
                                    "SellStartDate": "2013-05-30"
                                },
                                {
                                    "MinListPrice": "8.99",
                                    "CategoryName": "Clothing",
                                    "SellStartDate": "2013-05-30"
                                },
                                {
                                    "MinListPrice": "20.24",
                                    "CategoryName": "Components",
                                    "SellStartDate": "2013-05-30"
                                }
                            ]
                        },
                        "text/html": [
                            "<table>",
                            "<tr><th>MinListPrice</th><th>CategoryName</th><th>SellStartDate</th></tr>",
                            "<tr><td>1431.50</td><td>Components</td><td>2008-04-30</td></tr>",
                            "<tr><td>34.99</td><td>Accessories</td><td>2011-05-31</td></tr>",
                            "<tr><td>782.99</td><td>Bikes</td><td>2011-05-31</td></tr>",
                            "<tr><td>8.99</td><td>Clothing</td><td>2011-05-31</td></tr>",
                            "<tr><td>337.22</td><td>Components</td><td>2011-05-31</td></tr>",
                            "<tr><td>13.99</td><td>Accessories</td><td>2012-05-30</td></tr>",
                            "<tr><td>1079.99</td><td>Bikes</td><td>2012-05-30</td></tr>",
                            "<tr><td>24.49</td><td>Clothing</td><td>2012-05-30</td></tr>",
                            "<tr><td>34.20</td><td>Components</td><td>2012-05-30</td></tr>",
                            "<tr><td>2.29</td><td>Accessories</td><td>2013-05-30</td></tr>",
                            "<tr><td>539.99</td><td>Bikes</td><td>2013-05-30</td></tr>",
                            "<tr><td>8.99</td><td>Clothing</td><td>2013-05-30</td></tr>",
                            "<tr><td>20.24</td><td>Components</td><td>2013-05-30</td></tr>",
                            "</table>"
                        ]
                    }
                }
            ],
            "execution_count": 18
        },
        {
            "cell_type": "code",
            "source": [
                ""
            ],
            "metadata": {
                "azdata_cell_guid": "ee7780dd-a150-4d80-b4e8-b80fbcdee088",
                "language": "sql"
            },
            "outputs": [],
            "execution_count": null
        },
        {
            "cell_type": "code",
            "source": [
                "SELECT TerritoryID, Name, CountryRegionCode, SalesYTD, SalesLastYear\n",
                "FROM Sales.SalesTerritory;"
            ],
            "metadata": {
                "azdata_cell_guid": "a2e13982-3118-49ab-8ef0-76a41a29d8ed",
                "language": "sql",
                "tags": [
                    "hide_input"
                ]
            },
            "outputs": [
                {
                    "output_type": "display_data",
                    "data": {
                        "text/html": "(10 rows affected)"
                    },
                    "metadata": {}
                },
                {
                    "output_type": "display_data",
                    "data": {
                        "text/html": "Total execution time: 00:00:00.003"
                    },
                    "metadata": {}
                },
                {
                    "output_type": "execute_result",
                    "metadata": {},
                    "execution_count": 1,
                    "data": {
                        "application/vnd.dataresource+json": {
                            "schema": {
                                "fields": [
                                    {
                                        "name": "TerritoryID"
                                    },
                                    {
                                        "name": "Name"
                                    },
                                    {
                                        "name": "CountryRegionCode"
                                    },
                                    {
                                        "name": "SalesYTD"
                                    },
                                    {
                                        "name": "SalesLastYear"
                                    }
                                ]
                            },
                            "data": [
                                {
                                    "TerritoryID": "1",
                                    "Name": "Northwest",
                                    "CountryRegionCode": "US",
                                    "SalesYTD": "7887186.7882",
                                    "SalesLastYear": "3298694.4938"
                                },
                                {
                                    "TerritoryID": "2",
                                    "Name": "Northeast",
                                    "CountryRegionCode": "US",
                                    "SalesYTD": "2402176.8476",
                                    "SalesLastYear": "3607148.9371"
                                },
                                {
                                    "TerritoryID": "3",
                                    "Name": "Central",
                                    "CountryRegionCode": "US",
                                    "SalesYTD": "3072175.118",
                                    "SalesLastYear": "3205014.0767"
                                },
                                {
                                    "TerritoryID": "4",
                                    "Name": "Southwest",
                                    "CountryRegionCode": "US",
                                    "SalesYTD": "10510853.8739",
                                    "SalesLastYear": "5366575.7098"
                                },
                                {
                                    "TerritoryID": "5",
                                    "Name": "Southeast",
                                    "CountryRegionCode": "US",
                                    "SalesYTD": "2538667.2515",
                                    "SalesLastYear": "3925071.4318"
                                },
                                {
                                    "TerritoryID": "6",
                                    "Name": "Canada",
                                    "CountryRegionCode": "CA",
                                    "SalesYTD": "6771829.1376",
                                    "SalesLastYear": "5693988.86"
                                },
                                {
                                    "TerritoryID": "7",
                                    "Name": "France",
                                    "CountryRegionCode": "FR",
                                    "SalesYTD": "4772398.3078",
                                    "SalesLastYear": "2396539.7601"
                                },
                                {
                                    "TerritoryID": "8",
                                    "Name": "Germany",
                                    "CountryRegionCode": "DE",
                                    "SalesYTD": "3805202.3478",
                                    "SalesLastYear": "1307949.7917"
                                },
                                {
                                    "TerritoryID": "9",
                                    "Name": "Australia",
                                    "CountryRegionCode": "AU",
                                    "SalesYTD": "5977814.9154",
                                    "SalesLastYear": "2278548.9776"
                                },
                                {
                                    "TerritoryID": "10",
                                    "Name": "United Kingdom",
                                    "CountryRegionCode": "GB",
                                    "SalesYTD": "5012905.3656",
                                    "SalesLastYear": "1635823.3967"
                                }
                            ]
                        },
                        "text/html": [
                            "<table>",
                            "<tr><th>TerritoryID</th><th>Name</th><th>CountryRegionCode</th><th>SalesYTD</th><th>SalesLastYear</th></tr>",
                            "<tr><td>1</td><td>Northwest</td><td>US</td><td>7887186.7882</td><td>3298694.4938</td></tr>",
                            "<tr><td>2</td><td>Northeast</td><td>US</td><td>2402176.8476</td><td>3607148.9371</td></tr>",
                            "<tr><td>3</td><td>Central</td><td>US</td><td>3072175.118</td><td>3205014.0767</td></tr>",
                            "<tr><td>4</td><td>Southwest</td><td>US</td><td>10510853.8739</td><td>5366575.7098</td></tr>",
                            "<tr><td>5</td><td>Southeast</td><td>US</td><td>2538667.2515</td><td>3925071.4318</td></tr>",
                            "<tr><td>6</td><td>Canada</td><td>CA</td><td>6771829.1376</td><td>5693988.86</td></tr>",
                            "<tr><td>7</td><td>France</td><td>FR</td><td>4772398.3078</td><td>2396539.7601</td></tr>",
                            "<tr><td>8</td><td>Germany</td><td>DE</td><td>3805202.3478</td><td>1307949.7917</td></tr>",
                            "<tr><td>9</td><td>Australia</td><td>AU</td><td>5977814.9154</td><td>2278548.9776</td></tr>",
                            "<tr><td>10</td><td>United Kingdom</td><td>GB</td><td>5012905.3656</td><td>1635823.3967</td></tr>",
                            "</table>"
                        ]
                    }
                }
            ],
            "execution_count": 1
        }
    ]
}