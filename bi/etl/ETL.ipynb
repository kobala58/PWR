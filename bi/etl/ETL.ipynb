{
 "cells": [
  {
   "metadata": {
    "ExecuteTime": {
     "end_time": "2024-06-12T09:32:38.951561Z",
     "start_time": "2024-06-12T09:32:38.948718Z"
    }
   },
   "cell_type": "code",
   "source": [
    "import os\n",
    "import json\n",
    "import copy\n",
    "import pandas as pd\n",
    "import petl as etl\n",
    "from pathlib import Path\n",
    "# from tqdm import tqdm\n",
    "from tqdm.notebook import tqdm"
   ],
   "id": "7d7f79d0f3ec1703",
   "outputs": [],
   "execution_count": 84
  },
  {
   "cell_type": "code",
   "id": "initial_id",
   "metadata": {
    "collapsed": true,
    "ExecuteTime": {
     "end_time": "2024-06-12T09:32:38.962429Z",
     "start_time": "2024-06-12T09:32:38.958691Z"
    }
   },
   "source": [
    "# TODO: parser zaczynający się od rozpakowania zipa\n",
    "ROOT_DIR = \"./dataset/\""
   ],
   "outputs": [],
   "execution_count": 85
  },
  {
   "metadata": {
    "ExecuteTime": {
     "end_time": "2024-06-12T09:32:38.976517Z",
     "start_time": "2024-06-12T09:32:38.973079Z"
    }
   },
   "cell_type": "code",
   "source": [
    "def crawler(root_dir: str = ROOT_DIR) -> None:\n",
    "    ALL_COLS = set()\n",
    "    for root, dirs, files in tqdm(os.walk(root_dir), desc=\"Crawling Dataset\"):\n",
    "        for file in files:\n",
    "            if file.endswith(\".json\"):\n",
    "                file_path = os.path.join(root, file)\n",
    "                with open(file_path, 'r', encoding='utf-8') as f:\n",
    "                    json_data = json.load(f)\n",
    "                    for offer in json_data:   \n",
    "                        data = degerate_data(json_data)\n",
    "                        del json_data\n",
    "                        return data\n"
   ],
   "id": "b793649fe55dd71b",
   "outputs": [],
   "execution_count": 86
  },
  {
   "metadata": {
    "ExecuteTime": {
     "end_time": "2024-06-12T09:32:38.995844Z",
     "start_time": "2024-06-12T09:32:38.992739Z"
    }
   },
   "cell_type": "code",
   "source": [
    "columns_og = ['latitude', 'multilocation', 'longitude', 'remote', 'address_text', 'company_logo_url', 'published_at', 'street', 'company_name', 'skills', 'marker_icon', 'display_offer', 'country_code', 'way_of_apply', 'experience_level', 'id', 'employment_types', 'remote_interview', 'company_url', 'company_size', 'workplace_type', 'open_to_hire_ukrainians', 'title', 'city']\n",
    "\n",
    "columns_to_check = ('latitude', 'multilocation', 'longitude', 'remote', 'address_text', 'published_at', 'street', 'company_name', 'skills', 'marker_icon', 'display_offer', 'country_code', 'way_of_apply', 'experience_level', 'id', 'remote_interview', 'company_url', 'company_size', 'workplace_type', 'open_to_hire_ukrainians', 'title', 'city')"
   ],
   "id": "d9784a229d6126e0",
   "outputs": [],
   "execution_count": 87
  },
  {
   "metadata": {
    "ExecuteTime": {
     "end_time": "2024-06-12T09:32:39.003659Z",
     "start_time": "2024-06-12T09:32:38.997638Z"
    }
   },
   "cell_type": "code",
   "source": [
    "def degerate_data(data):\n",
    "    tmp = []\n",
    "    # zdegenerowane dane\n",
    "    # see every offer\n",
    "    for offer in data:\n",
    "        offer_cp = copy.copy(offer)\n",
    "        del offer_cp[\"company_logo_url\"]\n",
    "        del offer_cp[\"employment_types\"]\n",
    "        # cross-check to ensure that all columns all present even with None\n",
    "        \n",
    "        cols_to_add = set(columns_to_check) - set(offer_cp.keys())\n",
    "        \n",
    "        for col in cols_to_add:\n",
    "            offer_cp[col] = None\n",
    "        \n",
    "        for empl_types in offer[\"employment_types\"]:\n",
    "            offer_cp[\"employment_type\"] = empl_types[\"type\"]\n",
    "            offer_cp[\"salary\"] = \"Disclosed\"\n",
    "            if empl_types[\"salary\"] is not None:\n",
    "                offer_cp[\"from\"] = empl_types[\"salary\"][\"from\"]\n",
    "                offer_cp[\"to\"] = empl_types[\"salary\"][\"to\"]\n",
    "                offer_cp[\"currency\"] = empl_types[\"salary\"][\"currency\"]\n",
    "            else:\n",
    "                offer_cp[\"from\"] = None \n",
    "                offer_cp[\"to\"] = None\n",
    "                offer_cp[\"currency\"] = None\n",
    "               \n",
    "                tmp.append(offer_cp)\n",
    "    return tmp\n",
    "            \n"
   ],
   "id": "2e6c3e47c81ca29",
   "outputs": [],
   "execution_count": 88
  },
  {
   "metadata": {
    "ExecuteTime": {
     "end_time": "2024-06-12T09:32:39.015577Z",
     "start_time": "2024-06-12T09:32:39.011842Z"
    }
   },
   "cell_type": "code",
   "source": "columns = ['latitude', 'multilocation', 'longitude', 'remote', 'address_text', 'company_logo_url', 'published_at', 'street', 'company_name', 'skills', 'marker_icon', 'display_offer', 'country_code', 'way_of_apply', 'experience_level', 'id', 'employment_types', 'remote_interview', 'company_url', 'company_size', 'workplace_type', 'open_to_hire_ukrainians', 'title', 'city']",
   "id": "b1bae1d64c64e425",
   "outputs": [],
   "execution_count": 89
  },
  {
   "metadata": {
    "ExecuteTime": {
     "end_time": "2024-06-12T09:32:39.297766Z",
     "start_time": "2024-06-12T09:32:39.017502Z"
    }
   },
   "cell_type": "code",
   "source": [
    "jobs = []\n",
    "data = crawler(ROOT_DIR)\n"
   ],
   "id": "b56bc3eccae8d436",
   "outputs": [
    {
     "data": {
      "text/plain": [
       "Crawling Dataset: 0it [00:00, ?it/s]"
      ],
      "application/vnd.jupyter.widget-view+json": {
       "version_major": 2,
       "version_minor": 0,
       "model_id": "d8787fadbe1f4d4b91735ea5439fdf7f"
      }
     },
     "metadata": {},
     "output_type": "display_data"
    }
   ],
   "execution_count": 90
  },
  {
   "metadata": {
    "ExecuteTime": {
     "end_time": "2024-06-12T09:32:39.320744Z",
     "start_time": "2024-06-12T09:32:39.299277Z"
    }
   },
   "cell_type": "code",
   "source": [
    "data = pd.DataFrame(data)\n",
    "print(data.head())"
   ],
   "id": "2237b31bef98b068",
   "outputs": [
    {
     "name": "stdout",
     "output_type": "stream",
     "text": [
      "                          title          street      city country_code  \\\n",
      "0               DevOps Engineer      Dzielna 60  Warszawa           PL   \n",
      "1               DevOps Engineer      Dzielna 60  Warszawa           PL   \n",
      "2  MES Developer systemu Apriso  Wólczańska 178      Łódź           PL   \n",
      "3             Software Engineer               -   Wrocław           PL   \n",
      "4             Software Engineer               -    Kraków           PL   \n",
      "\n",
      "           address_text marker_icon workplace_type  \\\n",
      "0  Dzielna 60, Warszawa      devops         remote   \n",
      "1  Dzielna 60, Warszawa      devops         remote   \n",
      "2  Wólczańska 178, Łódź  javascript         remote   \n",
      "3            -, Wrocław         net         remote   \n",
      "4             -, Kraków         net         remote   \n",
      "\n",
      "                 company_name                      company_url company_size  \\\n",
      "0  Transition Technologies MS               http://www.ttms.pl         500+   \n",
      "1  Transition Technologies MS               http://www.ttms.pl         500+   \n",
      "2                   Accenture  https://www.accenture.com/pl-pl        8600+   \n",
      "3                         IFS     https://www.ifsworld.com/pl/      100-200   \n",
      "4                         IFS     https://www.ifsworld.com/pl/      100-200   \n",
      "\n",
      "   ...                                             skills remote  \\\n",
      "0  ...  [{'name': 'MongoDB', 'level': 4}, {'name': 'My...   True   \n",
      "1  ...  [{'name': 'MongoDB', 'level': 4}, {'name': 'My...   True   \n",
      "2  ...  [{'name': 'MES', 'level': 4}, {'name': 'Apriso...   True   \n",
      "3  ...  [{'name': 'SQL', 'level': 3}, {'name': '.Net',...   True   \n",
      "4  ...  [{'name': 'SQL', 'level': 3}, {'name': '.Net',...   True   \n",
      "\n",
      "  multilocation display_offer  way_of_apply  employment_type     salary  from  \\\n",
      "0          None          None          None              b2b  Disclosed  None   \n",
      "1          None          None          None              b2b  Disclosed  None   \n",
      "2          None          None          None        permanent  Disclosed  None   \n",
      "3          None          None          None              b2b  Disclosed  None   \n",
      "4          None          None          None              b2b  Disclosed  None   \n",
      "\n",
      "     to currency  \n",
      "0  None     None  \n",
      "1  None     None  \n",
      "2  None     None  \n",
      "3  None     None  \n",
      "4  None     None  \n",
      "\n",
      "[5 rows x 27 columns]\n"
     ]
    }
   ],
   "execution_count": 91
  },
  {
   "metadata": {
    "ExecuteTime": {
     "end_time": "2024-06-12T09:32:39.324945Z",
     "start_time": "2024-06-12T09:32:39.321852Z"
    }
   },
   "cell_type": "code",
   "source": [
    "def create_dims_tables(data, cols: str|dict):\n",
    "    # colname lub {\"name\": [cola, colb, colc]}\n",
    "    if type(cols) == str:\n",
    "        dimname = cols + \"_id\"\n",
    "    else:\n",
    "        dimname = cols.keys()[0] +\" _id\"\n",
    "        cols = cols[dimname]\n",
    "    \n",
    "    data_dim = data[cols].drop_duplicates().reset_index(drop=True)\n",
    "    data_dim[dimname] = dim_company.index + 1\n",
    "    data.merge(data_dim, on=dimname)\n",
    "    return data, data_dim\n",
    "    "
   ],
   "id": "b10a02639e69d53c",
   "outputs": [],
   "execution_count": 92
  },
  {
   "metadata": {
    "ExecuteTime": {
     "end_time": "2024-06-12T09:32:40.757065Z",
     "start_time": "2024-06-12T09:32:39.326449Z"
    }
   },
   "cell_type": "code",
   "source": [
    "df = data\n",
    "# Tworzenie tabeli wymiarów dla firmy\n",
    "dim_company = df[['company_name', 'company_url', 'company_size']].drop_duplicates().reset_index(drop=True)\n",
    "dim_company['company_id'] = dim_company.index + 1\n",
    "\n",
    "# Tworzenie tabeli wymiarów dla lokalizacji\n",
    "dim_location = df[['street', 'city', 'country_code', 'latitude', 'longitude']].drop_duplicates().reset_index(drop=True)\n",
    "dim_location['location_id'] = dim_location.index + 1\n",
    "\n",
    "# Tworzenie tabeli wymiarów dla umiejętności\n",
    "# Rozwijanie listy umiejętności na osobne wiersze\n",
    "skills_expanded = df.explode('skills')[['id', 'skills']]\n",
    "skills_expanded = pd.concat([skills_expanded.drop(['skills'], axis=1), skills_expanded['skills'].apply(pd.Series)], axis=1)\n",
    "skills_expanded = skills_expanded.rename(columns={'name': 'skill_name', 'level': 'skill_level'}).drop_duplicates().reset_index(drop=True)\n",
    "\n",
    "# Tworzenie tabeli wymiarów dla umiejętności\n",
    "dim_skills = skills_expanded[['skill_name', 'skill_level']].drop_duplicates().reset_index(drop=True)\n",
    "dim_skills['skill_id'] = dim_skills.index + 1\n",
    "\n",
    "# Dodanie identyfikatorów umiejętności do tabeli umiejętności rozszerzonej\n",
    "skills_expanded = skills_expanded.merge(dim_skills, on=['skill_name', 'skill_level'])\n",
    "\n",
    "# Grupowanie umiejętności według id ofert pracy\n",
    "skills_grouped = skills_expanded.groupby('id')['skill_id'].apply(list).reset_index()\n",
    "\n",
    "# Łączenie umiejętności z tabelą faktów\n",
    "df = df.merge(skills_grouped, on='id')\n",
    "\n",
    "# Dołączenie identyfikatorów firmy i lokalizacji do tabeli faktów\n",
    "df = df.merge(dim_company, on=['company_name', 'company_url', 'company_size'])\n",
    "df = df.merge(dim_location, on=['street', 'city', 'country_code', 'latitude', 'longitude'])\n",
    "\n",
    "# Przekształcenie tabeli faktów, aby zawierała tylko identyfikatory oraz inne istotne kolumny\n",
    "fact_df = df[['id', 'title', 'workplace_type', 'experience_level', 'published_at', 'remote_interview', 'open_to_hire_ukrainians', 'remote', 'employment_type', 'salary', 'from', 'to', 'currency','company_id', 'location_id', 'skill_id']]"
   ],
   "id": "c15564f2f452c74f",
   "outputs": [],
   "execution_count": 93
  },
  {
   "metadata": {
    "ExecuteTime": {
     "end_time": "2024-06-12T09:32:40.777390Z",
     "start_time": "2024-06-12T09:32:40.758518Z"
    }
   },
   "cell_type": "code",
   "source": "dim_location",
   "id": "da057e130d12f0c0",
   "outputs": [
    {
     "data": {
      "text/plain": [
       "                      street       city country_code    latitude  \\\n",
       "0                 Dzielna 60   Warszawa           PL  52.2437256   \n",
       "1             Wólczańska 178       Łódź           PL  51.7539054   \n",
       "2                          -    Wrocław           PL  51.1078852   \n",
       "3                          -     Kraków           PL  50.0646501   \n",
       "4               Inflancka 4a   Warszawa           PL  52.2564721   \n",
       "..                       ...        ...          ...         ...   \n",
       "745               Kalifornia  Cupertino           US  37.3229978   \n",
       "746  Strzelców Bytomskich 87      Bytom           PL   50.371158   \n",
       "747              Rydygiera 8   Warszawa           PL  52.2296756   \n",
       "748              Reymonta 13    Wrocław           PL   51.129771   \n",
       "749            Oławska 27/29    Wrocław           PL  51.1081049   \n",
       "\n",
       "        longitude  location_id  \n",
       "0      20.9833704            1  \n",
       "1       19.456101            2  \n",
       "2      17.0385376            3  \n",
       "3      19.9449799            4  \n",
       "4       20.993809            5  \n",
       "..            ...          ...  \n",
       "745  -122.0321823          746  \n",
       "746     18.893748          747  \n",
       "747    21.0122287          748  \n",
       "748    17.0279918          749  \n",
       "749    17.0363529          750  \n",
       "\n",
       "[750 rows x 6 columns]"
      ],
      "text/html": [
       "<div>\n",
       "<style scoped>\n",
       "    .dataframe tbody tr th:only-of-type {\n",
       "        vertical-align: middle;\n",
       "    }\n",
       "\n",
       "    .dataframe tbody tr th {\n",
       "        vertical-align: top;\n",
       "    }\n",
       "\n",
       "    .dataframe thead th {\n",
       "        text-align: right;\n",
       "    }\n",
       "</style>\n",
       "<table border=\"1\" class=\"dataframe\">\n",
       "  <thead>\n",
       "    <tr style=\"text-align: right;\">\n",
       "      <th></th>\n",
       "      <th>street</th>\n",
       "      <th>city</th>\n",
       "      <th>country_code</th>\n",
       "      <th>latitude</th>\n",
       "      <th>longitude</th>\n",
       "      <th>location_id</th>\n",
       "    </tr>\n",
       "  </thead>\n",
       "  <tbody>\n",
       "    <tr>\n",
       "      <th>0</th>\n",
       "      <td>Dzielna 60</td>\n",
       "      <td>Warszawa</td>\n",
       "      <td>PL</td>\n",
       "      <td>52.2437256</td>\n",
       "      <td>20.9833704</td>\n",
       "      <td>1</td>\n",
       "    </tr>\n",
       "    <tr>\n",
       "      <th>1</th>\n",
       "      <td>Wólczańska 178</td>\n",
       "      <td>Łódź</td>\n",
       "      <td>PL</td>\n",
       "      <td>51.7539054</td>\n",
       "      <td>19.456101</td>\n",
       "      <td>2</td>\n",
       "    </tr>\n",
       "    <tr>\n",
       "      <th>2</th>\n",
       "      <td>-</td>\n",
       "      <td>Wrocław</td>\n",
       "      <td>PL</td>\n",
       "      <td>51.1078852</td>\n",
       "      <td>17.0385376</td>\n",
       "      <td>3</td>\n",
       "    </tr>\n",
       "    <tr>\n",
       "      <th>3</th>\n",
       "      <td>-</td>\n",
       "      <td>Kraków</td>\n",
       "      <td>PL</td>\n",
       "      <td>50.0646501</td>\n",
       "      <td>19.9449799</td>\n",
       "      <td>4</td>\n",
       "    </tr>\n",
       "    <tr>\n",
       "      <th>4</th>\n",
       "      <td>Inflancka 4a</td>\n",
       "      <td>Warszawa</td>\n",
       "      <td>PL</td>\n",
       "      <td>52.2564721</td>\n",
       "      <td>20.993809</td>\n",
       "      <td>5</td>\n",
       "    </tr>\n",
       "    <tr>\n",
       "      <th>...</th>\n",
       "      <td>...</td>\n",
       "      <td>...</td>\n",
       "      <td>...</td>\n",
       "      <td>...</td>\n",
       "      <td>...</td>\n",
       "      <td>...</td>\n",
       "    </tr>\n",
       "    <tr>\n",
       "      <th>745</th>\n",
       "      <td>Kalifornia</td>\n",
       "      <td>Cupertino</td>\n",
       "      <td>US</td>\n",
       "      <td>37.3229978</td>\n",
       "      <td>-122.0321823</td>\n",
       "      <td>746</td>\n",
       "    </tr>\n",
       "    <tr>\n",
       "      <th>746</th>\n",
       "      <td>Strzelców Bytomskich 87</td>\n",
       "      <td>Bytom</td>\n",
       "      <td>PL</td>\n",
       "      <td>50.371158</td>\n",
       "      <td>18.893748</td>\n",
       "      <td>747</td>\n",
       "    </tr>\n",
       "    <tr>\n",
       "      <th>747</th>\n",
       "      <td>Rydygiera 8</td>\n",
       "      <td>Warszawa</td>\n",
       "      <td>PL</td>\n",
       "      <td>52.2296756</td>\n",
       "      <td>21.0122287</td>\n",
       "      <td>748</td>\n",
       "    </tr>\n",
       "    <tr>\n",
       "      <th>748</th>\n",
       "      <td>Reymonta 13</td>\n",
       "      <td>Wrocław</td>\n",
       "      <td>PL</td>\n",
       "      <td>51.129771</td>\n",
       "      <td>17.0279918</td>\n",
       "      <td>749</td>\n",
       "    </tr>\n",
       "    <tr>\n",
       "      <th>749</th>\n",
       "      <td>Oławska 27/29</td>\n",
       "      <td>Wrocław</td>\n",
       "      <td>PL</td>\n",
       "      <td>51.1081049</td>\n",
       "      <td>17.0363529</td>\n",
       "      <td>750</td>\n",
       "    </tr>\n",
       "  </tbody>\n",
       "</table>\n",
       "<p>750 rows × 6 columns</p>\n",
       "</div>"
      ]
     },
     "execution_count": 94,
     "metadata": {},
     "output_type": "execute_result"
    }
   ],
   "execution_count": 94
  },
  {
   "metadata": {
    "ExecuteTime": {
     "end_time": "2024-06-12T09:32:40.785521Z",
     "start_time": "2024-06-12T09:32:40.778350Z"
    }
   },
   "cell_type": "code",
   "source": "print(fact_df.head())",
   "id": "3afa724212895850",
   "outputs": [
    {
     "name": "stdout",
     "output_type": "stream",
     "text": [
      "                                                  id  \\\n",
      "0         transition-technologies-ms-devops-engineer   \n",
      "1         transition-technologies-ms-devops-engineer   \n",
      "2        accenture-mes-developer-systemu-apriso-lodz   \n",
      "3                     ifs-software-engineer-warszawa   \n",
      "4  ifs-software-engineer-a363af06-8ee7-4934-a9dc-...   \n",
      "\n",
      "                          title workplace_type experience_level  \\\n",
      "0               DevOps Engineer         remote              mid   \n",
      "1               DevOps Engineer         remote              mid   \n",
      "2  MES Developer systemu Apriso         remote              mid   \n",
      "3             Software Engineer         remote              mid   \n",
      "4             Software Engineer         remote              mid   \n",
      "\n",
      "               published_at  remote_interview  open_to_hire_ukrainians  \\\n",
      "0  2022-02-28T16:28:00.000Z              True                    False   \n",
      "1  2022-02-28T16:28:00.000Z              True                    False   \n",
      "2  2022-02-28T16:00:15.631Z              True                    False   \n",
      "3  2022-02-28T16:00:15.631Z             False                    False   \n",
      "4  2022-02-28T16:00:15.631Z             False                    False   \n",
      "\n",
      "   remote employment_type     salary  from    to currency  company_id  \\\n",
      "0    True             b2b  Disclosed  None  None     None           1   \n",
      "1    True             b2b  Disclosed  None  None     None           1   \n",
      "2    True       permanent  Disclosed  None  None     None           2   \n",
      "3    True             b2b  Disclosed  None  None     None           3   \n",
      "4    True             b2b  Disclosed  None  None     None           3   \n",
      "\n",
      "   location_id   skill_id  \n",
      "0            1  [1, 2, 3]  \n",
      "1            1  [1, 2, 3]  \n",
      "2            2     [4, 5]  \n",
      "3            3  [6, 7, 8]  \n",
      "4            4  [6, 7, 8]  \n"
     ]
    }
   ],
   "execution_count": 95
  },
  {
   "metadata": {
    "ExecuteTime": {
     "end_time": "2024-06-12T09:32:40.790Z",
     "start_time": "2024-06-12T09:32:40.786490Z"
    }
   },
   "cell_type": "code",
   "source": "fact_df.shape",
   "id": "16625c886527deca",
   "outputs": [
    {
     "data": {
      "text/plain": [
       "(2686, 16)"
      ]
     },
     "execution_count": 96,
     "metadata": {},
     "output_type": "execute_result"
    }
   ],
   "execution_count": 96
  }
 ],
 "metadata": {
  "kernelspec": {
   "display_name": "Python 3",
   "language": "python",
   "name": "python3"
  },
  "language_info": {
   "codemirror_mode": {
    "name": "ipython",
    "version": 2
   },
   "file_extension": ".py",
   "mimetype": "text/x-python",
   "name": "python",
   "nbconvert_exporter": "python",
   "pygments_lexer": "ipython2",
   "version": "2.7.6"
  }
 },
 "nbformat": 4,
 "nbformat_minor": 5
}
