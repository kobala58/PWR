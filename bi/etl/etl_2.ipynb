{
 "cells": [
  {
   "cell_type": "code",
   "execution_count": null,
   "id": "initial_id",
   "metadata": {
    "collapsed": true
   },
   "outputs": [],
   "source": [
    "import pandas as pd\n",
    "import os\n",
    "from glob import glob\n",
    "import json\n",
    "\n",
    "def load_data_from_files(folder_path):\n",
    "    all_files = glob(os.path.join(folder_path, '*.json'))\n",
    "    data_list = []\n",
    "    for file in all_files:\n",
    "        with open(file, 'r') as f:\n",
    "            data_list.extend(json.load(f))\n",
    "    return data_list"
   ]
  },
  {
   "metadata": {},
   "cell_type": "code",
   "outputs": [],
   "execution_count": null,
   "source": [
    "def create_dim_company(df):\n",
    "    dim_company = df[['company_name', 'company_url', 'company_size']].drop_duplicates().reset_index(drop=True)\n",
    "    dim_company['company_id'] = dim_company.index + 1\n",
    "    return dim_company\n",
    "\n",
    "def create_dim_location(df):\n",
    "    dim_location = df[['street', 'city', 'country_code', 'latitude', 'longitude']].drop_duplicates().reset_index(drop=True)\n",
    "    dim_location['location_id'] = dim_location.index + 1\n",
    "    return dim_location\n",
    "\n",
    "def create_dim_skills(df):\n",
    "    skills_expanded = df.explode('skills')[['id', 'skills']]\n",
    "    skills_expanded = pd.concat([skills_expanded.drop(['skills'], axis=1), skills_expanded['skills'].apply(pd.Series)], axis=1)\n",
    "    skills_expanded = skills_expanded.rename(columns={'name': 'skill_name', 'level': 'skill_level'}).drop_duplicates().reset_index(drop=True)\n",
    "    \n",
    "    dim_skills = skills_expanded[['skill_name', 'skill_level']].drop_duplicates().reset_index(drop=True)\n",
    "    dim_skills['skill_id'] = dim_skills.index + 1\n",
    "    return dim_skills, skills_expanded"
   ],
   "id": "66d89476a16836f0"
  },
  {
   "metadata": {},
   "cell_type": "code",
   "outputs": [],
   "execution_count": null,
   "source": [
    "def create_fact_table(df, dim_company, dim_location, skills_expanded, dim_skills):\n",
    "    # Łączenie identyfikatorów firmy i lokalizacji do tabeli faktów\n",
    "    df = df.merge(dim_company, on=['company_name', 'company_url', 'company_size'])\n",
    "    df = df.merge(dim_location, on=['street', 'city', 'country_code', 'latitude', 'longitude'])\n",
    "\n",
    "    # Dodanie identyfikatorów umiejętności do tabeli umiejętności rozszerzonej\n",
    "    skills_expanded = skills_expanded.merge(dim_skills, on=['skill_name', 'skill_level'])\n",
    "\n",
    "    # Grupowanie umiejętności według id ofert pracy\n",
    "    skills_grouped = skills_expanded.groupby('id')['skill_id'].apply(list).reset_index()\n",
    "\n",
    "    # Łączenie umiejętności z tabelą faktów\n",
    "    df = df.merge(skills_grouped, on='id')\n",
    "\n",
    "    # Przekształcenie tabeli faktów, aby zawierała tylko identyfikatory oraz inne istotne kolumny\n",
    "    fact_df = df[['id', 'title', 'workplace_type', 'experience_level', 'published_at', 'remote_interview', 'open_to_hire_ukrainians', 'remote', 'employment_type', 'salary', 'from', 'to', 'currency', 'company_id', 'location_id', 'skill_id']]\n",
    "    \n",
    "    return fact_df"
   ],
   "id": "70e7f21dc9d4a17f"
  },
  {
   "metadata": {},
   "cell_type": "code",
   "outputs": [],
   "execution_count": null,
   "source": [
    "def process_all_folders(base_folder_path):\n",
    "    all_fact_tables = []\n",
    "    all_dim_companies = []\n",
    "    all_dim_locations = []\n",
    "    all_dim_skills = []\n",
    "\n",
    "    for folder in os.listdir(base_folder_path):\n",
    "        folder_path = os.path.join(base_folder_path, folder)\n",
    "        if os.path.isdir(folder_path):\n",
    "            data_list = load_data_from_files(folder_path)\n",
    "            df = pd.DataFrame(data_list)\n",
    "            \n",
    "            dim_company = create_dim_company(df)\n",
    "            dim_location = create_dim_location(df)\n",
    "            dim_skills, skills_expanded = create_dim_skills(df)\n",
    "            \n",
    "            fact_df = create_fact_table(df, dim_company, dim_location, skills_expanded, dim_skills)\n",
    "            \n",
    "            all_fact_tables.append(fact_df)\n",
    "            all_dim_companies.append(dim_company)\n",
    "            all_dim_locations.append(dim_location)\n",
    "            all_dim_skills.append(dim_skills)\n",
    "    \n",
    "    # Scalanie tabel wymiarów i faktów z wszystkich folderów\n",
    "    final_fact_table = pd.concat(all_fact_tables).reset_index(drop=True)\n",
    "    final_dim_company = pd.concat(all_dim_companies).drop_duplicates().reset_index(drop=True)\n",
    "    final_dim_location = pd.concat(all_dim_locations).drop_duplicates().reset_index(drop=True)\n",
    "    final_dim_skills = pd.concat(all_dim_skills).drop_duplicates().reset_index(drop=True)\n",
    "\n",
    "    return final_fact_table, final_dim_company, final_dim_location, final_dim_skills\n"
   ],
   "id": "291440b8386e997"
  },
  {
   "metadata": {},
   "cell_type": "code",
   "outputs": [],
   "execution_count": null,
   "source": [
    "def przetworz_pliki_w_folderze(folder_path):\n",
    "\n",
    "    for file_name in os.listdir(folder_path):\n",
    "        file_path = os.path.join(folder_path, file_name)\n",
    "        \n",
    "        # degenerujemy i pakujemy to do dataframa\n",
    "    \n",
    "   \n",
    "    print(\"Zapisano wyniki dla folderu:\", folder_path)\n",
    "\n",
    "def przetworz_wszystkie_foldery(root_folder):\n",
    "    \n",
    "    for folder_name in os.listdir(root_folder):\n",
    "        folder_path = os.path.join(root_folder, folder_name)\n",
    "\n",
    "        if os.path.isdir(folder_path):            \n",
    "            przetworz_pliki_w_folderze(folder_path)\n",
    "\n",
    "# Ścieżka do głównego katalogu\n",
    "main_folder = \"./dataset/\"\n",
    "\n",
    "# Wywołujemy funkcję przetwarzającą wszystkie foldery\n",
    "przetworz_wszystkie_foldery(main_folder)"
   ],
   "id": "827f6ea10d1f38a7"
  },
  {
   "metadata": {},
   "cell_type": "code",
   "outputs": [],
   "execution_count": null,
   "source": [
    "base_folder_path = './dataset'\n",
    "final_fact_table, final_dim_company, final_dim_location, final_dim_skills = process_all_folders(base_folder_path)\n",
    "\n",
    "# Wyświetlanie wyników\n",
    "print(\"Tabela faktów:\")\n",
    "print(final_fact_table.head())\n",
    "\n",
    "print(\"\\nTabela wymiarów firmy:\")\n",
    "print(final_dim_company.head())\n",
    "\n",
    "print(\"\\nTabela wymiarów lokalizacji:\")\n",
    "print(final_dim_location.head())\n",
    "\n",
    "print(\"\\nTabela wymiarów umiejętności:\")\n",
    "print(final_dim_skills.head())"
   ],
   "id": "c0692d15d3f1cc31"
  }
 ],
 "metadata": {
  "kernelspec": {
   "display_name": "Python 3",
   "language": "python",
   "name": "python3"
  },
  "language_info": {
   "codemirror_mode": {
    "name": "ipython",
    "version": 2
   },
   "file_extension": ".py",
   "mimetype": "text/x-python",
   "name": "python",
   "nbconvert_exporter": "python",
   "pygments_lexer": "ipython2",
   "version": "2.7.6"
  }
 },
 "nbformat": 4,
 "nbformat_minor": 5
}
